{
 "cells": [
  {
   "cell_type": "markdown",
   "metadata": {},
   "source": [
    "![alt text](qgc_formula.jpg \"Formula for betweenness centrality\")"
   ]
  },
  {
   "cell_type": "markdown",
   "metadata": {},
   "source": [
    "The nodes have no self cycles, so in N cases(when we choose i and j the same node Aij = 0, in all other cases when we choose the i and j by n * (n-1) ways Aij = 1)\n",
    "\n",
    "So the formula is : \n",
    "\n",
    "n * 1/(2m) * ( - (n-1) ^ 2 / (2m)) + n * (n-1) * 1/(2m) * (1 - (n-1) ^ 2 / 2m)\n",
    "\n",
    "2m = 2 * n * (n-1) / 2 = n * (n-1)\n",
    "so the first part: \n",
    " - (n * 1 * (n-1) ^ 2) / (n * (n-1) * n * (n-1)) = -1/n\n",
    "the second part:\n",
    "n * (n-1) * (n * (n-1) - (n-1) ^ 2) / (n * (n-1) * n * (n - 1)) = 1 / n\n",
    "-1/n + 1/n = 0\n",
    "\n",
    "\n",
    "\n"
   ]
  }
 ],
 "metadata": {
  "language_info": {
   "name": "python"
  },
  "orig_nbformat": 4
 },
 "nbformat": 4,
 "nbformat_minor": 2
}
