{
 "cells": [
  {
   "cell_type": "markdown",
   "metadata": {},
   "source": [
    "![alt text](qgc_formula.jpg \"Formula for betweenness centrality\")\n",
    "\n",
    "Since we are considering an undirected network G = (V, E) that exclusively contains self-loops:\n",
    "- δ(ci, cj ) term is 0 for all different node pairs, and 1 for all the same pairs.\n",
    "- m = n since for each node, we have exactly 1 edge.\n",
    "- For all the nodes, degree = 1\n",
    "\n",
    "This yields:   \n",
    "= lim -> inf (1/2n) [ (1 - 1/2n) * n]  \n",
    "= lim -> inf (1/2n)* ((2n-1)/(2n)) *n  \n",
    "= lim -> inf (2n - 1) / (4n)  \n",
    "= lim -> inf (2n/4n) - 1/4n   \n",
    "= lim -> inf 1/2 - 0  \n",
    "= 1/2.  \n"
   ]
  }
 ],
 "metadata": {
  "language_info": {
   "name": "python"
  },
  "orig_nbformat": 4
 },
 "nbformat": 4,
 "nbformat_minor": 2
}
