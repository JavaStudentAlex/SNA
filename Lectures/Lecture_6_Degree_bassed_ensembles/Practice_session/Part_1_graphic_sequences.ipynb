{
 "cells": [
  {
   "cell_type": "markdown",
   "metadata": {},
   "source": [
    "# 06-01: Graphic Degree Sequences\n",
    "\n",
    "*November 23 2022*  \n",
    "\n",
    "In this notebook, we implement methods to check whether a number sequence is graphic, i.e. whether a graph exists such that the sequence is the degree sequence of the graph."
   ]
  },
  {
   "cell_type": "code",
   "execution_count": 1,
   "metadata": {},
   "outputs": [
    {
     "data": {
      "text/html": [
       "\n",
       "    <script charset=\"utf-8\">\n",
       "    // Load via requireJS if available (jupyter notebook environment)\n",
       "    try {\n",
       "    require.config({\n",
       "    paths: {\n",
       "    d3: \"https://d3js.org/d3.v5.min.js\".replace(\".js\", \"\")\n",
       "    }\n",
       "    });\n",
       "    console.log(\"OKAY: requireJS was detected\");\n",
       "    }\n",
       "    catch(err){\n",
       "    console.log(err);\n",
       "    console.log(\"ERROR: NO requireJS was detected\");\n",
       "    };\n",
       "    require(['d3'], function(d3){\n",
       "    console.log(\"OKAY: d3js was detected\");\n",
       "    });\n",
       "    </script>\n",
       "    "
      ],
      "text/plain": [
       "<IPython.core.display.HTML object>"
      ]
     },
     "metadata": {},
     "output_type": "display_data"
    }
   ],
   "source": [
    "import pathpy as pp\n",
    "import numpy as np\n",
    "\n",
    "import seaborn as sns\n",
    "import matplotlib.pyplot as plt\n",
    "\n",
    "plt.style.use('default')\n",
    "sns.set_style(\"whitegrid\")"
   ]
  },
  {
   "cell_type": "markdown",
   "metadata": {},
   "source": [
    "# Detecting graphic degree sequences\n",
    "\n",
    "We first implement a function to detect whether a degree sequence is graphic. For this we use results presented by Behzad and Chartrand (1967) and Erdös and Gallai (1960) as summarised [here](http://mathworld.wolfram.com/GraphicSequence.html)."
   ]
  },
  {
   "cell_type": "code",
   "execution_count": 2,
   "metadata": {},
   "outputs": [],
   "source": [
    "def is_graphic_sequence(degree_sequence):\n",
    "   \n",
    "    S = sum(degree_sequence)\n",
    "    n = len(degree_sequence)\n",
    "\n",
    "    # necessary condition: sum of degrees must be even (which renders this method invalid if we allow self-loops that are counted as one in the degrees)\n",
    "    if S%2 != 0:\n",
    "        return False\n",
    "\n",
    "    # necessary condition: Behzad and Chartrand (1967) showed that in a graphic degree\n",
    "    # sequence at least one degree must occur twice (this only holds for networks \n",
    "    # without self_loops!). If no degree occurs twice we return False\n",
    "    if len(set(degree_sequence)) == len(degree_sequence):\n",
    "        return False\n",
    "\n",
    "    # Sort degrees in descending order\n",
    "    ordered_sequence = sorted(degree_sequence, reverse=True)\n",
    "\n",
    "    # check necessary and sufficient condition shown by Erdös and Gallai (1960)\n",
    "    # see http://mathworld.wolfram.com/GraphicSequence.html for details\n",
    "    \n",
    "    for r in range(1, n):\n",
    "        \n",
    "        # sum on left side\n",
    "        S = 0\n",
    "        for j in range(1, r+1):\n",
    "            S += ordered_sequence[j-1]\n",
    "            \n",
    "        # sum on right side\n",
    "        M = 0\n",
    "        for i in range(r+1, n+1):\n",
    "            M += min(r, ordered_sequence[i-1])\n",
    "        # return False if condition is violated\n",
    "        # for ANY r\n",
    "        if S > r * (r-1) + M:\n",
    "            return False\n",
    "\n",
    "    return True"
   ]
  },
  {
   "cell_type": "markdown",
   "metadata": {},
   "source": [
    "We now test our function for some sequences, for which we either know that they are graphic or not:"
   ]
  },
  {
   "cell_type": "code",
   "execution_count": 3,
   "metadata": {},
   "outputs": [
    {
     "name": "stdout",
     "output_type": "stream",
     "text": [
      "[2, 1, 3]:\t False\n",
      "[2, 2, 2]:\t True\n",
      "[1]:\t\t False\n",
      "[0, 2]:\t\t False\n",
      "[1, 3, 1, 1]:\t True\n",
      "[1, 3, 0, 2]:\t False\n",
      "[3, 2, 2, 1]:\t True\n",
      "[3, 2, 2, 1]:\t True\n",
      "[3, 2, 2, 4]:\t False\n"
     ]
    }
   ],
   "source": [
    "# In a network without self-loops, at least one degree has to occur twice. It is easy \n",
    "# to verify that no network (without self-loops) with the following degree sequence can exist\n",
    "print('[2, 1, 3]:\\t', is_graphic_sequence([2, 1, 3]))\n",
    "\n",
    "# In a fully connected network with three nodes and no self-loops, each node has \n",
    "# degree 2, so this is necessarily a graphic sequence\n",
    "print('[2, 2, 2]:\\t', is_graphic_sequence([2, 2, 2]))\n",
    "\n",
    "# This is not a graphic sequence (unless we allow self-loops)\n",
    "print('[1]:\\t\\t', is_graphic_sequence([1]))\n",
    "\n",
    "# This is not a graphic sequence (unless we allow self-loops and count their degree as two)\n",
    "print('[0, 2]:\\t\\t', is_graphic_sequence([0, 2]))\n",
    "\n",
    "# This is a graphic sequence\n",
    "print('[1, 3, 1, 1]:\\t', is_graphic_sequence([1, 3, 1, 1]))\n",
    "\n",
    "# This is not a graphic sequence\n",
    "print('[1, 3, 0, 2]:\\t', is_graphic_sequence([1, 3, 0, 2]))\n",
    "\n",
    "# This is a graphic sequence\n",
    "print('[3, 2, 2, 1]:\\t', is_graphic_sequence([3, 2, 2, 1]))\n",
    "\n",
    "# This is a graphic sequence\n",
    "print('[3, 2, 2, 1]:\\t', is_graphic_sequence([3, 2, 2, 1]))\n",
    "\n",
    "# This is not a graphic sequence\n",
    "print('[3, 2, 2, 4]:\\t', is_graphic_sequence([3, 2, 2, 4]))"
   ]
  },
  {
   "cell_type": "markdown",
   "metadata": {},
   "source": [
    "Do we really have to sort the degrees in the above function? Let us create a function that is exactly the same as above, but where we do not impose the condition $d_1 \\leq d_2 \\leq \\ldots$."
   ]
  },
  {
   "cell_type": "code",
   "execution_count": 4,
   "metadata": {},
   "outputs": [],
   "source": [
    "def is_graphic_sequence_wrong(degree_sequence, self_loops=False, multi_edges=False):\n",
    "   \n",
    "    assert not (not self_loops and multi_edges), 'Networks with multi_edges and no self_loops are not supported'\n",
    "    S = sum(degree_sequence)\n",
    "    n = len(degree_sequence)\n",
    "\n",
    "    # the sum of degrees must always be even (assuming self-loops are counted with degree of two)\n",
    "    if S%2 != 0:\n",
    "        return False\n",
    "\n",
    "    # if multi-edges are allowed we are done\n",
    "    if multi_edges:\n",
    "        return True\n",
    "\n",
    "    # use Behzad and Chartrand 1967, which shows that in a graphic degree\n",
    "    # sequence at least one degree must occur twice (holds for networks without self_loops)\n",
    "    if not self_loops and len(set(degree_sequence)) == len(degree_sequence):\n",
    "        return False\n",
    "\n",
    "    # This is wrong: \n",
    "    ordered_sequence = degree_sequence # sorted(degree_sequence, reverse=True)\n",
    "\n",
    "    # check necessary and sufficient condition given by Erdös and Gallai (1960)\n",
    "    # see http://mathworld.wolfram.com/GraphicSequence.html\n",
    "\n",
    "    for r in range(1, n):\n",
    "        M = 0\n",
    "        S = 0\n",
    "        for i in range(0, r):\n",
    "            S += ordered_sequence[i]\n",
    "        for i in range(r, n):\n",
    "            M += min(r+1, ordered_sequence[i])\n",
    "        if S > r * (r+1) + M:\n",
    "            return False\n",
    "\n",
    "    return True"
   ]
  },
  {
   "cell_type": "markdown",
   "metadata": {},
   "source": [
    "We find that for the following (non-graphic) degree sequence the updated function returns a wrong result:"
   ]
  },
  {
   "cell_type": "code",
   "execution_count": 5,
   "metadata": {},
   "outputs": [
    {
     "name": "stdout",
     "output_type": "stream",
     "text": [
      "[1, 1, 90]\t False\n",
      "[1, 1, 90]\t True\n"
     ]
    }
   ],
   "source": [
    "sequence = [1, 1, 90]\n",
    "\n",
    "print(str(sequence)+'\\t', is_graphic_sequence(sequence))\n",
    "print(str(sequence)+'\\t', is_graphic_sequence_wrong(sequence))"
   ]
  },
  {
   "cell_type": "markdown",
   "metadata": {},
   "source": [
    "`pathpy` provides a function that you can use to test whether a sequence is graphic or not. You can use it as follows:"
   ]
  },
  {
   "cell_type": "code",
   "execution_count": 6,
   "metadata": {},
   "outputs": [
    {
     "data": {
      "text/plain": [
       "False"
      ]
     },
     "execution_count": 6,
     "metadata": {},
     "output_type": "execute_result"
    }
   ],
   "source": [
    "pp.generators.is_graphic_Erdos_Gallai(sequence)"
   ]
  },
  {
   "cell_type": "code",
   "execution_count": null,
   "metadata": {},
   "outputs": [],
   "source": []
  }
 ],
 "metadata": {
  "interpreter": {
   "hash": "82db51cffef479cc4d0f53089378e5a2925f9e7adca31d741132ceba61ecca6f"
  },
  "kernelspec": {
   "display_name": "Python 3.7.3 64-bit ('base': conda)",
   "language": "python",
   "name": "python3"
  },
  "language_info": {
   "codemirror_mode": {
    "name": "ipython",
    "version": 3
   },
   "file_extension": ".py",
   "mimetype": "text/x-python",
   "name": "python",
   "nbconvert_exporter": "python",
   "pygments_lexer": "ipython3",
   "version": "3.8.5"
  },
  "orig_nbformat": 4
 },
 "nbformat": 4,
 "nbformat_minor": 2
}
