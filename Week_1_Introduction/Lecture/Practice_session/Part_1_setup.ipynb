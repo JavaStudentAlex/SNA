{
 "cells": [
  {
   "cell_type": "markdown",
   "metadata": {
    "slideshow": {
     "slide_type": "slide"
    }
   },
   "source": [
    "# Setting up the `python` ecosystem for network science\n",
    "\n",
    "*October 19 2022*\n",
    "\n",
    "In this notebook, we explain how you can set up the data science environment that we will use in the practice lectures. The environment consists of a `python3` interpreter, the network analysis package `pathpy`, some additional packages for data analysis, and visualisation, the versioning system `git`, a `jupyter` notebook server, as well as - optionally - the development environment Visual Studio Code."
   ]
  },
  {
   "cell_type": "code",
   "execution_count": 1,
   "metadata": {},
   "outputs": [
    {
     "name": "stdout",
     "output_type": "stream",
     "text": [
      "42\n"
     ]
    }
   ],
   "source": [
    "x = 42\n",
    "print(x)"
   ]
  },
  {
   "cell_type": "markdown",
   "metadata": {
    "slideshow": {
     "slide_type": "subslide"
    }
   },
   "source": [
    "## Setting up `python` and `jupyter`\n",
    "\n",
    "To run the practice lecture notebooks and work on the exercise sheets, you need a `python >= 3.7` environment running on an operating system of your choice. For Windows, MacOS, and Linux users we recommend to install the latest [Anaconda distribution](https://www.anaconda.com/download/), an OpenSource `python` distribution pre-configured for data science and machine learning tasks. \n",
    "\n",
    "Just download and run the installer and you should have almost everything you need for this course. Beware of alternative methods to install a barebone python distribution, as a careless installation may conflict with the python version already present on your system. We have had students that managed to wreck their Mac OS by accidentally removing the standard python runtime!\n",
    "\n",
    "If you prefer starting from a barebone `python 3.x` installation, you will also need to manually install additional packages via the python package manager `pip`. To see a list of python packages that are already installed, you can open a terminal and run \n",
    "\n",
    "```\n",
    "> pip list\n",
    "```\n",
    "\n",
    "If you installed Anaconda on a Windows system you should use the `Anaconda prompt` terminal that has been installed by Anaconda. This will make sure that all environment variables are correctly set. Moreover, to install packages, it is best to open this command prompt as an administrator (or use `su` on a Unix-based system). To complete the practice lectures and group exercises, we will need the following packages: \n",
    "\n",
    "`jupyter` - provides an environment for interactive data science projects in your browser. We will extensively use so-called `jupyter notebooks`, which are interactive computable documents that you can also use to compile reports.  \n",
    "`pathpy` - provides implementations of common scientific and statistical computing techniques for python.  \n",
    "`scipy` - provides implementations of common scientific and statistical computing techniques for python.  \n",
    "`numpy` - provides support for multi-dimensional arrays an matrices as well as high-level mathematical functions. This project originated as a smaller core part of `scipy`.  \n",
    "`matplotlib` - provides advanced plotting functions based on the data types introduced in `numpy`. Visualisations can be directly integrated into `jupyter` notebooks.  \n",
    "`pandas` - popular package for the management, analysis, and manipulation of multi-dimensional **pan**el **da**ta (thus the name). Provides convenient interfaces for the import and export of data from files or databases.  \n",
    "\n",
    "To install the packages above, except for `pathpy` just run the following command in the terminal for each of the packages above:\n",
    "\n",
    "```\n",
    "> pip install PACKAGENAME\n",
    "```\n",
    "\n",
    "If you see no error messages, you should be all set to continue with the next steps. For the same reason presented above pip may be associated to the python version of the system. In order to have a full control on the version in which the packages should be installed you can use\n",
    "```\n",
    "> python3.x -m pip install PACKAGENAME\n",
    "``` "
   ]
  },
  {
   "cell_type": "markdown",
   "metadata": {},
   "source": [
    "## Setting up `pathpy`\n",
    "\n",
    "In this course we will use `pathpy`, a network analysis and visualisation package that is currently being developed at my chair.\n",
    "\n",
    "Compared to many other packages, `pathpy` has a couple of advantages. First, it is easy to install as it should have no dependencies not already included in a default `anaconda` installation. Second, `pathpy` has a user-friendly API making it easy to handle directed and undirected networks, networks with single and multiple edges, multi-layer networks or temporal networks. It also provides interactive HTML-based visualisations that can be directly displayed inside `jupyter` notebooks, which makes it particularly suitable for educational settings. Third, it supports the analysis and visualisation of time series data on networked systems, such as time-stamped edges or data on paths in networks.\n",
    "\n",
    "Since `pathpy` is not included in the default Anaconda installation, we first need to install it. In previous iterations of the course, we used the stable version `pathy 2.0`. Right now, we are in the process of finishing a heavily revised version 3.0, which comes with many advantages. It has a cleaner API, is more efficient, and provides advanced plotting functions. To benefit from those advantages, we  use the development version of `pathpy3` from gitHub. The best way to install it is to (1) clone the git repository to a local directory, and (2) install an editable version of the `pathpy` module from this cloned repository. This approach will allow you to execute `git pull` from the commandline to always update to the latest development version. \n",
    "\n",
    "To install pathpy 3 open a command line as administrator and run: \n",
    "\n",
    "```\n",
    "> git clone https://github.com/pathpy/pathpy pathpy3\n",
    "> cd pathpy3\n",
    "> pip install -e .\n",
    "``` \n",
    "\n",
    "This will create a new directory `pathpy3` on your machine. Changing to this directory and running `pip install -e .` will *install `pathpy` as an editable python module*. Rather than copying the code to a separate directory in your python module path, this creates a symbolic link to the current directory. This has the advantage that you can update your local installation of `pathpy` simply by entering the directory and running `git pull`. After this the new version will be immediately available in all `python` processes launched after the update. This allows us to update your local `pathpy` installations by means of a simple `git push`, without the need to uninstall and install again. Note that after updating `pathpy` you must always restart the python process (or jupyter kernel) before changes become effective!\n",
    "\n",
    "`pathpy` requires `python 3.x`. If you have both ` python 2.x` and `python 3.x` installed, you can explicitly install a package for `python 3` by using the command `pip3` instead of `pip`. Note that `python 2` is deprecated since April 2020, so you should always use `python 3` anyway.\n",
    "\n",
    "If by any chance you had previously installed an offifical release version of pathpy via pip (e.g. for our data science course), you will need to manually uninstall it. You can check this via the command `pip list`. Uninstalling prior versions is necessary because all `pathpy` versions use the same namespace `pathpy` and for reasons of backwards compatibility we still provide older major versions in case someone needs them. If for some reason you want to quickly switch between different major versions, we recommend to use [virtual environments in Anaconda](https://docs.conda.io/projects/conda/en/latest/user-guide/tasks/manage-environments.html)."
   ]
  },
  {
   "cell_type": "markdown",
   "metadata": {
    "slideshow": {
     "slide_type": "subslide"
    }
   },
   "source": [
    "## Using `jupyter` notebooks\n",
    "\n",
    "Now that all the packages have been installed, you should be able to start a `jupyter` server, a process that can execute chunks of `python code` in a so-called `kernel` and return the result. This `jupyter` server can run local `python kernels`, which are actually local servers that accept requests with `python` code from clients, execute the code and then return the result. A popular but not the only way to interact with such `kernels` is through the browser-based clients `jupyter notebook` and `jupyter lab`. \n",
    "\n",
    "Those two clients are quite similar in the sense that both allow you to open, edit, and run `jupyter` notebooks in your browser. Each notebook consists of multiple input and output cells, where the input contains the code being executed while the adjacent output cell displays the result of the computation. Importantly, these cells can contain code in multiple languages such as `julia`, `python`, or `R` (note the name: `jupyter`), as well as Markdown-formatted text, chunks of HTML or even LaTeX equations. This makes `jupyter` notebooks a great tool to compile interactive computable documents, that can directly be exported to HTML or LaTex/PDF reports.\n",
    "\n",
    "\n",
    "While you can use both the `jupyter notebook` or the `jupyter lab` server for this course, the latter as recently been released as the next-generation `jupyter` interface. We will thus use this for our course. First install `jupyter lab` via pip. To start a `jupyter lab` server, just navigate to the directory in your filesystem in which you wish to create or open a `jupyter` notebook and execute the following command in your terminal:\n",
    "\n",
    "```\n",
    "> jupyter lab\n",
    "```\n",
    "\n",
    "As a first step, you can try this in the directory that contains this notebook (i.e. the corresponding `.ipynb` notebook file). A browser will start and you should see the notebook file in the file browser panel on the left of your screen. Click it to open an interactive document. Similarly, you can create a new notebook. Doubleclicking an input cell in this notebook will allow you to edit the underlying text or code. Pressing Shift+Enter will execute the code and either display the formatted textor the output of the underlying code:\n",
    "\n",
    "Let us try this in the following input cell, that contains `python` code generating a simple textual output:"
   ]
  },
  {
   "cell_type": "code",
   "execution_count": 2,
   "metadata": {},
   "outputs": [
    {
     "name": "stdout",
     "output_type": "stream",
     "text": [
      "42\n"
     ]
    }
   ],
   "source": [
    "x = 2 * 21\n",
    "print(x)"
   ]
  },
  {
   "cell_type": "markdown",
   "metadata": {},
   "source": [
    "You can create a new input cell below the current cursor either by clicking the `+` button in the top left menu or by pressing `b` on the keyboard. If you are editing a cell, you can press `Esc` to enter the command mode, in which you can add, manipulate or delete a cell. To delete a cell press `D` twice in command mode. To change the cell type from `python` to `markdown` press `m` in command mode. Press `y` to change it back to `python` code. Let us try this with the following markdown cell, that contains a LaTeX formula as well as a chunk of HTML code:"
   ]
  },
  {
   "cell_type": "markdown",
   "metadata": {},
   "source": [
    "**Note**: We can also use LaTeX formulas: $\\int_0^\\pi \\sin(t) dt$"
   ]
  },
  {
   "cell_type": "markdown",
   "metadata": {},
   "source": [
    "All `python` code will be executed by the underlying `python` kernel, whose current status is displayed in the status bar of the notebook window. You can see this when you execute the following cell (press Shift+Enter):"
   ]
  },
  {
   "cell_type": "code",
   "execution_count": 3,
   "metadata": {},
   "outputs": [
    {
     "name": "stdout",
     "output_type": "stream",
     "text": [
      "50000000\n"
     ]
    }
   ],
   "source": [
    "s = 0\n",
    "for i in range(50000000):\n",
    "    s += 1\n",
    "print(s)"
   ]
  },
  {
   "cell_type": "markdown",
   "metadata": {},
   "source": [
    "Finally, it is important to note that the `python` kernel is simply a single interpreter process that sequentially runs the code in all cells that you execute. This implies that the order of your execution determines the current state of the kernel, i.e. which variables exist and what the values of those variables are. In particular, state is maintained across multiple cell, as you can see in the following example:"
   ]
  },
  {
   "cell_type": "code",
   "execution_count": 4,
   "metadata": {},
   "outputs": [],
   "source": [
    "x = 42"
   ]
  },
  {
   "cell_type": "code",
   "execution_count": 5,
   "metadata": {},
   "outputs": [
    {
     "name": "stdout",
     "output_type": "stream",
     "text": [
      "42\n"
     ]
    }
   ],
   "source": [
    "print(x)"
   ]
  },
  {
   "cell_type": "markdown",
   "metadata": {},
   "source": [
    "If you happened to execute those two cells in reverse order, you would generate an error. This seems trivial at first, but for complex notebooks where you execute cells back and forth it can become quite difficult to understand what is the current state. You can always wipe the current state by killing the current kernel, starting a new interpreter process. You can do this by selecting \"Restart kernel\" in the Kernel menu above. Try it and then execute the following cell, which returns an error as a variable with the name `x` has not been defined in the new kernel."
   ]
  },
  {
   "cell_type": "code",
   "execution_count": 6,
   "metadata": {},
   "outputs": [
    {
     "name": "stdout",
     "output_type": "stream",
     "text": [
      "42\n"
     ]
    }
   ],
   "source": [
    "print(x)"
   ]
  },
  {
   "cell_type": "code",
   "execution_count": 6,
   "metadata": {},
   "outputs": [],
   "source": []
  }
 ],
 "metadata": {
  "celltoolbar": "Slideshow",
  "kernelspec": {
   "display_name": "base",
   "language": "python",
   "name": "python3"
  },
  "language_info": {
   "codemirror_mode": {
    "name": "ipython",
    "version": 3
   },
   "file_extension": ".py",
   "mimetype": "text/x-python",
   "name": "python",
   "nbconvert_exporter": "python",
   "pygments_lexer": "ipython3",
   "version": "3.9.7 (default, Sep 16 2021, 16:59:28) [MSC v.1916 64 bit (AMD64)]"
  },
  "vscode": {
   "interpreter": {
    "hash": "ad2bdc8ecc057115af97d19610ffacc2b4e99fae6737bb82f5d7fb13d2f2c186"
   }
  }
 },
 "nbformat": 4,
 "nbformat_minor": 2
}
