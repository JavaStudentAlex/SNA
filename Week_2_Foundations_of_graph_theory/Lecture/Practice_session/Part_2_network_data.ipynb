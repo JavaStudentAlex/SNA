{
 "cells": [
  {
   "cell_type": "markdown",
   "metadata": {
    "slideshow": {
     "slide_type": "slide"
    }
   },
   "source": [
    "# Importing and exporting network data\n",
    "\n",
    "*October 26 2022*\n",
    "\n",
    "Now that we have understood how networks are represented in `pathpy`, we show how to read and write network data. In the following, we show how we can easily import and export networks from and to common file formats, `pandas` data frames or databases. For this, we first import `pathpy` as well as `pandas` and `sqlite3`:"
   ]
  },
  {
   "cell_type": "code",
   "execution_count": 16,
   "metadata": {
    "scrolled": true,
    "slideshow": {
     "slide_type": "slide"
    }
   },
   "outputs": [],
   "source": [
    "import pathpy as pp\n",
    "\n",
    "import pandas as pd\n",
    "import sqlite3\n",
    "\n",
    "from constants import ROOT_DIR"
   ]
  },
  {
   "cell_type": "markdown",
   "metadata": {},
   "source": [
    "The simplest way to store network data is in terms of an adjacency list, i.e. a simple text file where each line contains the uids of source and target nodes of an edge, separated by a special character. This widely used format is the default file format of `pathpy` (and many other network analysis packages). We can use the `write_csv` function in the `io` module to save a network instance in this format. In the generation of the toy network below, we also demonstrate how we can add multiple nodes and edges at once based on a sequence of node uid tuples. The call to `add_edges` below generates three nodes and two edges:"
   ]
  },
  {
   "cell_type": "code",
   "execution_count": 17,
   "metadata": {},
   "outputs": [
    {
     "name": "stdout",
     "output_type": "stream",
     "text": [
      "Uid:\t\t\t0x7f1d79abaee0\n",
      "Type:\t\t\tNetwork\n",
      "Directed:\t\tTrue\n",
      "Multi-Edges:\t\tFalse\n",
      "Number of nodes:\t3\n",
      "Number of edges:\t2\n"
     ]
    }
   ],
   "source": [
    "n = pp.Network()\n",
    "n.add_edges(('a', 'b'), ('a', 'c'))\n",
    "print(n)"
   ]
  },
  {
   "cell_type": "markdown",
   "metadata": {},
   "source": [
    "To store this network in a CSV file, we call:"
   ]
  },
  {
   "cell_type": "code",
   "execution_count": 18,
   "metadata": {},
   "outputs": [],
   "source": [
    "pp.io.csv.write(n, 'network.csv')"
   ]
  },
  {
   "cell_type": "markdown",
   "metadata": {},
   "source": [
    "If you inspect this file, you will find that it contains the source and target node uids of all edges. By default a comma separator is used, but we can easily change this using the `sep` parameter of the function. The `io` functions of `pathpy` are based on `pandas` data frames, and saving a network to a csv file will internally first create a pandas data frame, then storing the data frame to a csv file. If we want to manually use a data frame representation of the network, we can use the `to_dataframe` function in the `io` module, e.g. calling:"
   ]
  },
  {
   "cell_type": "code",
   "execution_count": 19,
   "metadata": {},
   "outputs": [
    {
     "data": {
      "text/plain": "   v  w\n0  a  c\n1  a  b",
      "text/html": "<div>\n<style scoped>\n    .dataframe tbody tr th:only-of-type {\n        vertical-align: middle;\n    }\n\n    .dataframe tbody tr th {\n        vertical-align: top;\n    }\n\n    .dataframe thead th {\n        text-align: right;\n    }\n</style>\n<table border=\"1\" class=\"dataframe\">\n  <thead>\n    <tr style=\"text-align: right;\">\n      <th></th>\n      <th>v</th>\n      <th>w</th>\n    </tr>\n  </thead>\n  <tbody>\n    <tr>\n      <th>0</th>\n      <td>a</td>\n      <td>c</td>\n    </tr>\n    <tr>\n      <th>1</th>\n      <td>a</td>\n      <td>b</td>\n    </tr>\n  </tbody>\n</table>\n</div>"
     },
     "execution_count": 19,
     "metadata": {},
     "output_type": "execute_result"
    }
   ],
   "source": [
    "df = pp.io.to_dataframe(n)\n",
    "df"
   ]
  },
  {
   "cell_type": "markdown",
   "metadata": {},
   "source": [
    "Just as we can create a data frame from a network, we can also create a network from a data frame. This data frame must minimally include two columns 'v' and 'w' that store the uids of the nodes that are connected by edges."
   ]
  },
  {
   "cell_type": "code",
   "execution_count": 20,
   "metadata": {},
   "outputs": [
    {
     "name": "stdout",
     "output_type": "stream",
     "text": [
      "Uid:\t\t\tpandasNetwork\n",
      "Type:\t\t\tNetwork\n",
      "Directed:\t\tTrue\n",
      "Multi-Edges:\t\tFalse\n",
      "Number of nodes:\t3\n",
      "Number of edges:\t2\n",
      "{'c', 'a', 'b'}\n",
      "{'0x7f1d799658e0', '0x7f1d79965af0'}\n"
     ]
    }
   ],
   "source": [
    "df = pd.DataFrame(columns=['v', 'w'])\n",
    "df.loc[0] = ['a', 'b']\n",
    "df.loc[1] = ['b', 'c']\n",
    "\n",
    "n = pp.io.to_network(df, uid='pandasNetwork')\n",
    "print(n)\n",
    "print(n.nodes.uids)\n",
    "print(n.edges.uids)"
   ]
  },
  {
   "cell_type": "markdown",
   "metadata": {},
   "source": [
    "If no edge uids exist, new uids will be created by default (as in the case above). If a uid column is included in the pandas data frame, those uids will be used for the edges."
   ]
  },
  {
   "cell_type": "code",
   "execution_count": 21,
   "metadata": {},
   "outputs": [
    {
     "name": "stdout",
     "output_type": "stream",
     "text": [
      "Uid:\t\t\tpandasNetwork\n",
      "Type:\t\t\tNetwork\n",
      "Directed:\t\tTrue\n",
      "Multi-Edges:\t\tFalse\n",
      "Number of nodes:\t3\n",
      "Number of edges:\t2\n",
      "{'c', 'a', 'b'}\n",
      "{'e1', 'e2'}\n"
     ]
    }
   ],
   "source": [
    "df = pd.DataFrame(columns=['v', 'w', 'uid'])\n",
    "df.loc[0] = ['a', 'b', 'e1']\n",
    "df.loc[1] = ['b', 'c', 'e2']\n",
    "n = pp.io.to_network(df, uid='pandasNetwork')\n",
    "print(n)\n",
    "print(n.nodes.uids)\n",
    "print(n.edges.uids)"
   ]
  },
  {
   "cell_type": "markdown",
   "metadata": {},
   "source": [
    "To directly load a network from a csv file, we can use the `read_csv` function in the `io` module. To read the network that we saved before, we can write:"
   ]
  },
  {
   "cell_type": "code",
   "execution_count": 22,
   "metadata": {},
   "outputs": [
    {
     "name": "stdout",
     "output_type": "stream",
     "text": [
      "Uid:\t\t\t0x7f1d79965f10\n",
      "Type:\t\t\tNetwork\n",
      "Directed:\t\tTrue\n",
      "Multi-Edges:\t\tFalse\n",
      "Number of nodes:\t3\n",
      "Number of edges:\t2\n"
     ]
    }
   ],
   "source": [
    "n = pp.io.csv.read_network('network.csv')\n",
    "print(n)"
   ]
  },
  {
   "cell_type": "markdown",
   "metadata": {},
   "source": [
    "Since the `io` functions are internally based on pandas data frames, we would get the same network (with a different uid though) if we did the following:"
   ]
  },
  {
   "cell_type": "code",
   "execution_count": 23,
   "metadata": {},
   "outputs": [
    {
     "name": "stdout",
     "output_type": "stream",
     "text": [
      "Uid:\t\t\t0x7f1d79b5faf0\n",
      "Type:\t\t\tNetwork\n",
      "Directed:\t\tTrue\n",
      "Multi-Edges:\t\tFalse\n",
      "Number of nodes:\t3\n",
      "Number of edges:\t2\n"
     ]
    }
   ],
   "source": [
    "df = pd.read_csv('network.csv')\n",
    "n = pp.io.to_network(df)\n",
    "print(n)"
   ]
  },
  {
   "cell_type": "markdown",
   "metadata": {},
   "source": [
    "The above call will generate a network with a new uid and no attributes. if we want to assign attributes or a custom uid to the newly generated network, we can simply pass those attributes to the `from_csv` function:"
   ]
  },
  {
   "cell_type": "code",
   "execution_count": 24,
   "metadata": {},
   "outputs": [
    {
     "name": "stdout",
     "output_type": "stream",
     "text": [
      "Uid:\t\t\tcsvnetwork\n",
      "Type:\t\t\tNetwork\n",
      "Directed:\t\tTrue\n",
      "Multi-Edges:\t\tFalse\n",
      "Number of nodes:\t3\n",
      "Number of edges:\t2\n"
     ]
    }
   ],
   "source": [
    "n = pp.io.csv.read_network(filename='network.csv', uid='csvnetwork')\n",
    "print(n)"
   ]
  },
  {
   "cell_type": "markdown",
   "metadata": {},
   "source": [
    "All of the functions above also work with edges that have arbitrary attributes. If only part of the edges have a given attribute, a NaN value will be automatically assigned for other edges. Let's create a small example where this is the case:"
   ]
  },
  {
   "cell_type": "code",
   "execution_count": 25,
   "metadata": {},
   "outputs": [
    {
     "name": "stdout",
     "output_type": "stream",
     "text": [
      "Uid:\t\t\t0x7f1d79a2c8e0\n",
      "Type:\t\t\tNetwork\n",
      "Directed:\t\tFalse\n",
      "Multi-Edges:\t\tFalse\n",
      "Number of nodes:\t3\n",
      "Number of edges:\t2\n"
     ]
    }
   ],
   "source": [
    "n = pp.Network(directed=False)\n",
    "n.add_edge('a', 'b', weight=2.0)\n",
    "n.add_edge('a', 'c', type='friendship')\n",
    "print(n)"
   ]
  },
  {
   "cell_type": "markdown",
   "metadata": {},
   "source": [
    " To export the edges of a network to a data frame we write:"
   ]
  },
  {
   "cell_type": "code",
   "execution_count": 26,
   "metadata": {},
   "outputs": [
    {
     "data": {
      "text/plain": "   v  w        type  weight\n0  a  c  friendship     NaN\n1  a  b         NaN     2.0",
      "text/html": "<div>\n<style scoped>\n    .dataframe tbody tr th:only-of-type {\n        vertical-align: middle;\n    }\n\n    .dataframe tbody tr th {\n        vertical-align: top;\n    }\n\n    .dataframe thead th {\n        text-align: right;\n    }\n</style>\n<table border=\"1\" class=\"dataframe\">\n  <thead>\n    <tr style=\"text-align: right;\">\n      <th></th>\n      <th>v</th>\n      <th>w</th>\n      <th>type</th>\n      <th>weight</th>\n    </tr>\n  </thead>\n  <tbody>\n    <tr>\n      <th>0</th>\n      <td>a</td>\n      <td>c</td>\n      <td>friendship</td>\n      <td>NaN</td>\n    </tr>\n    <tr>\n      <th>1</th>\n      <td>a</td>\n      <td>b</td>\n      <td>NaN</td>\n      <td>2.0</td>\n    </tr>\n  </tbody>\n</table>\n</div>"
     },
     "execution_count": 26,
     "metadata": {},
     "output_type": "execute_result"
    }
   ],
   "source": [
    "df = pp.io.to_dataframe(n)\n",
    "df"
   ]
  },
  {
   "cell_type": "code",
   "execution_count": 27,
   "metadata": {},
   "outputs": [],
   "source": [
    "pp.io.csv.write(n, 'network_attributes.csv')"
   ]
  },
  {
   "cell_type": "markdown",
   "metadata": {},
   "source": [
    "We can now read a network from this csv file and obtain the same data as before:"
   ]
  },
  {
   "cell_type": "code",
   "execution_count": 28,
   "metadata": {},
   "outputs": [
    {
     "name": "stdout",
     "output_type": "stream",
     "text": [
      "Uid:\t\t\t0x7f1d79754760\n",
      "Type:\t\t\tNetwork\n",
      "Directed:\t\tTrue\n",
      "Multi-Edges:\t\tFalse\n",
      "Number of nodes:\t3\n",
      "Number of edges:\t2\n",
      "Uid:\t\t0x7f1d79754820\n",
      "Type:\t\tEdge\n",
      "Directed:\tTrue\n",
      "Nodes:\t\t('a', 'c')\n",
      "\n",
      "{'type': 'friendship', 'weight': nan, 'uid': None, 'nodes': True}\n",
      "Uid:\t\t0x7f1d79754280\n",
      "Type:\t\tEdge\n",
      "Directed:\tTrue\n",
      "Nodes:\t\t('a', 'b')\n",
      "\n",
      "{'type': nan, 'weight': 2.0, 'uid': None, 'nodes': True}\n"
     ]
    }
   ],
   "source": [
    "n = pp.io.csv.read_network('./network_attributes.csv')\n",
    "\n",
    "print(n)\n",
    "\n",
    "for e in n.edges:\n",
    "    print(e)\n",
    "    print(e.attributes)"
   ]
  },
  {
   "cell_type": "markdown",
   "metadata": {},
   "source": [
    "## Storing network data in databases\n",
    "\n",
    "While the adjacency list file format is maximally simple and widely available, it also has disadvantages. First, it can be quite cumbersome to deal with a collection of external data files where each file defines its own seprator character. Moreover, we don't have a simple way to e.g. filter the data or make advanced queries without manipulating text files. \n",
    "\n",
    "For scenarios where we want to analyse data from heterogeneous sources, it is often simpler to store such data in a lightweight database like `SQLite`. `SQLite` is a simple but powerful file-based database management system that is supported in `python` without the need to install any external module, let alone a client-server database system. `SQLite` supports most of SQL and it is implemented in a lightweight C library. Moreover, there are simple and lightweight OpenSource tools to manipulate and manage `SQLite` database files, e.g. the [DB-Browser for SQLite](http://sqlitebrowser.org) or the SQLite plugin for VSCode.\n",
    "\n",
    "To simplify the analysis of network data, `pathpy` can directly load network from SQL databases. For this, we can call the function `read_sql` function in the `io` module. It allows us to pass an open connection to an SQLite database file, which we obtain using the `connect` function of sqlite3. We can further pass an arbitrary SQL query. The columns of this query will be used to generate edges (with attributes), just like in the case of a csv file or data frame. "
   ]
  },
  {
   "cell_type": "code",
   "execution_count": 29,
   "metadata": {},
   "outputs": [
    {
     "name": "stdout",
     "output_type": "stream",
     "text": [
      "Uid:\t\t\t0x7f1d79abaee0\n",
      "Type:\t\t\tNetwork\n",
      "Directed:\t\tTrue\n",
      "Multi-Edges:\t\tTrue\n",
      "Number of nodes:\t139\n",
      "Number of edges:\t2649\n"
     ]
    }
   ],
   "source": [
    "con = sqlite3.connect(f'{ROOT_DIR}/data/networks.db')\n",
    "n = pp.io.sql.read_network(con=con, sql='SELECT source, target FROM lotr', directed=True, multiedges=True)\n",
    "print(n)"
   ]
  },
  {
   "cell_type": "markdown",
   "metadata": {},
   "source": [
    "If we instead want to read all columns from a given table (without giving an open connection or an SQL query) we can simply write:"
   ]
  },
  {
   "cell_type": "code",
   "execution_count": 30,
   "metadata": {
    "scrolled": true
   },
   "outputs": [
    {
     "name": "stdout",
     "output_type": "stream",
     "text": [
      "Uid:\t\t\t0x7f1d796ed4f0\n",
      "Type:\t\t\tNetwork\n",
      "Directed:\t\tTrue\n",
      "Multi-Edges:\t\tFalse\n",
      "Number of nodes:\t403\n",
      "Number of edges:\t513\n"
     ]
    }
   ],
   "source": [
    "n = pp.io.sql.read_network(db_file=f'{ROOT_DIR}/data/networks.db', table='gentoo', directed=True)\n",
    "print(n)"
   ]
  },
  {
   "cell_type": "markdown",
   "metadata": {},
   "source": [
    "If we read a whole table from an SQL database, the `read_sql` function will automatically retrieve all edge attributes. In our database, the table `highschool`, which captures contact traces of highschool students, contains a weight attribute that stores the number of times two students have been in close proximity."
   ]
  },
  {
   "cell_type": "code",
   "execution_count": 31,
   "metadata": {
    "scrolled": true,
    "tags": []
   },
   "outputs": [
    {
     "name": "stdout",
     "output_type": "stream",
     "text": [
      "Uid:\t\t0x7f1d79691e80\n",
      "Type:\t\tEdge\n",
      "Directed:\tFalse\n",
      "Nodes:\t\t|'525', '694'|\n",
      "\n",
      "{'weight': 4, 'uid': None, 'nodes': True}\n"
     ]
    }
   ],
   "source": [
    "n = pp.io.sql.read_network(db_file=f'{ROOT_DIR}/data/networks.db', table='highschool', directed=False, multiedges=True)\n",
    "e = list(n.edges.uids)[0]\n",
    "print(n.edges[e])\n",
    "print(n.edges[e].attributes)"
   ]
  },
  {
   "cell_type": "markdown",
   "metadata": {},
   "source": [
    "Storing a Network in an SQL database is just as easy. Let's first create a network where edges have attributes:"
   ]
  },
  {
   "cell_type": "code",
   "execution_count": 32,
   "metadata": {
    "scrolled": true
   },
   "outputs": [
    {
     "name": "stdout",
     "output_type": "stream",
     "text": [
      "Uid:\t\t\t0x7f1d79916b20\n",
      "Type:\t\t\tNetwork\n",
      "Directed:\t\tFalse\n",
      "Multi-Edges:\t\tFalse\n",
      "Number of nodes:\t3\n",
      "Number of edges:\t2\n"
     ]
    }
   ],
   "source": [
    "n = pp.Network(directed=False)\n",
    "n.add_edge('a', 'b', weight=2.0)\n",
    "n.add_edge('a', 'c', type='friendship')\n",
    "print(n)"
   ]
  },
  {
   "cell_type": "markdown",
   "metadata": {},
   "source": [
    "To store this in a new table in an SQLite database file, we call the `write_sql` function. If the database file and table do not exist, a new database file or table is created. if they exist, we can use the `if_exists` parameter to specify what should be done:"
   ]
  },
  {
   "cell_type": "code",
   "execution_count": 34,
   "metadata": {},
   "outputs": [],
   "source": [
    "pp.io.sql.write(n, filename=f'{ROOT_DIR}/data/networks.db', table='test_network', if_exists='replace')"
   ]
  },
  {
   "cell_type": "code",
   "execution_count": 33,
   "metadata": {},
   "outputs": [],
   "source": []
  }
 ],
 "metadata": {
  "kernelspec": {
   "display_name": "Python 3 (ipykernel)",
   "language": "python",
   "name": "python3"
  },
  "language_info": {
   "codemirror_mode": {
    "name": "ipython",
    "version": 3
   },
   "file_extension": ".py",
   "mimetype": "text/x-python",
   "name": "python",
   "nbconvert_exporter": "python",
   "pygments_lexer": "ipython3",
   "version": "3.8.10"
  },
  "vscode": {
   "interpreter": {
    "hash": "ad2bdc8ecc057115af97d19610ffacc2b4e99fae6737bb82f5d7fb13d2f2c186"
   }
  }
 },
 "nbformat": 4,
 "nbformat_minor": 1
}
