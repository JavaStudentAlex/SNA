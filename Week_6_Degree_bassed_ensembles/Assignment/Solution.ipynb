{
 "cells": [
  {
   "cell_type": "markdown",
   "source": [
    "## 1. Molloy-Reed model"
   ],
   "metadata": {
    "collapsed": false
   }
  },
  {
   "cell_type": "markdown",
   "source": [
    "### (a) Given a random microstate generated based on the configuration model with degree distribution $P(k)$, consider a random node $v$ and follow a random edge to a neighbor $w$ of $v$. What is the probability that node $w$ has degree $k$?"
   ],
   "metadata": {
    "collapsed": false
   }
  },
  {
   "cell_type": "markdown",
   "source": [
    "So we choose the arbitrary node from the network, follow one of the links and check the chance that the degree of the successor node will be k. First of all the degree distribution will not be $P(k)$ because that $\\langle k_{n} \\rangle \\geq 1$.\n",
    "So, we have randomly chosen a node and stub on it to start the link to the neighbour. The probability to come to the node with $k$ degree is $\\frac{k}{2m - 1}$. At the same time the degree distribution is calculated by formula: $P(k) = \\frac{n_{k}}{n}$, where $n_{k}$ - number of nodes with with $k$ degree. So, $n_{k} = P(k)n$. So, the chance to come to the node with $k$ degree is:\n",
    "$$P_{n}(k) = \\frac{k}{2m - 1} np_{k}$$\n",
    "At the same time for $n \\rightarrow \\infty$ we can neglect $-1$ in formula and simplify it:\n",
    "$$P_{n}(k) = \\frac{k}{2m}nP(k) = \\frac{kP(k)}{\\frac{2m}{n}} = \\frac{kP(k)}{\\langle k \\rangle}$$"
   ],
   "metadata": {
    "collapsed": false
   }
  },
  {
   "cell_type": "markdown",
   "source": [
    "### (b) Using the expression obtained above compute the expected degree of the neighbors a random node $v$. What do we see when we calculate the difference between the expected degree of a random node and the expected degree of a random neighbor of such a node?"
   ],
   "metadata": {
    "collapsed": false
   }
  },
  {
   "cell_type": "markdown",
   "source": [
    "The formula for calculating the mean degree:\n",
    "$$\\langle k \\rangle = \\sum_{k = 0}^{\\infty}kP(k)$$\n",
    "\n",
    "For the neighbour degree we can use previously discovered formula:\n",
    "$$P_{n}(k) = \\frac{kP(k)}{\\langle k \\rangle}$$\n",
    "$$\\langle k_{n} \\rangle = \\sum_{k = 0}^{\\infty} kP_{n}(k) = \\frac{\\sum_{k = 0}^{\\infty} k^{2} P(k)}{\\langle k \\rangle} = \\frac{\\langle k^{2} \\rangle}{\\langle k \\rangle}$$\n",
    "\n",
    "The difference:\n",
    "$$\\langle k_{n} \\rangle - \\langle k \\rangle = \\frac{\\langle k^{2} \\rangle}{\\langle k \\rangle} - \\langle k \\rangle = \\frac{\\langle k^{2} \\rangle - \\langle k \\rangle^{2}}{\\langle k \\rangle} = \\frac{Var(k)}{\\langle k \\rangle} \\geq 0$$"
   ],
   "metadata": {
    "collapsed": false
   }
  },
  {
   "cell_type": "markdown",
   "source": [
    "### (c) Often rather than the degree of a node at the end of an edge we are interested in the number of edges attached to the node other than the one we arrived through. This number is called the excess degree of a node and will play an important role in the coming lectures. What is the probability that the node at which you arrive has excess degree k?"
   ],
   "metadata": {
    "collapsed": false
   }
  },
  {
   "cell_type": "markdown",
   "source": [
    "Access degree of the node is the usual neighbour degree without one more edge. So the node with $k$ excess degree will have $k + 1$ degree. So the probability is:\n",
    "$$Q(k) = \\frac{(k + 1)P(k +1)}{\\langle k \\rangle}$$"
   ],
   "metadata": {
    "collapsed": false
   }
  },
  {
   "cell_type": "markdown",
   "source": [
    "## 2. Friendship paradox and generating functions"
   ],
   "metadata": {
    "collapsed": false
   }
  },
  {
   "cell_type": "markdown",
   "source": [
    "### (a) Consider a random network with a given log-normal degree distribution with parameters $\\mu$ and $\\sigma$. Use the Molloy-Reed model to generate microstates from this statistical ensemble and calculate the difference between the mean degree $\\langle k \\rangle$ and the mean neighbour degree $\\langle k_{n} \\rangle$. How dœs a change of parameters $\\mu$ and $\\sigma$ influence $\\langle k \\rangle$ compared to $\\langle k_{n} \\rangle?"
   ],
   "metadata": {
    "collapsed": false
   }
  },
  {
   "cell_type": "code",
   "execution_count": 10,
   "outputs": [],
   "source": [
    "import multiprocessing as mp\n",
    "from typing import List, Tuple\n",
    "from concurrent.futures import ProcessPoolExecutor\n",
    "\n",
    "import numpy as np\n",
    "import pandas as pd\n",
    "import pathpy as pp\n",
    "from tqdm import tqdm\n",
    "import matplotlib.pyplot as plt"
   ],
   "metadata": {
    "collapsed": false
   }
  },
  {
   "cell_type": "code",
   "execution_count": 30,
   "outputs": [
    {
     "name": "stderr",
     "output_type": "stream",
     "text": [
      "100%|██████████| 100/100 [00:02<00:00, 43.19it/s]"
     ]
    },
    {
     "name": "stdout",
     "output_type": "stream",
     "text": [
      "CPU times: user 345 ms, sys: 83.6 ms, total: 429 ms\n",
      "Wall time: 2.42 s\n"
     ]
    },
    {
     "name": "stderr",
     "output_type": "stream",
     "text": [
      "\n"
     ]
    }
   ],
   "source": [
    "%%time\n",
    "def generate_network(mean_sima_pair: Tuple):\n",
    "    mean, sigma = mean_sima_pair\n",
    "    while True:\n",
    "        random_degrees = [int(x)\n",
    "                          for x in np.random.lognormal(mean=mean,\n",
    "                                                       sigma=sigma,\n",
    "                                                       size=300)]\n",
    "        if pp.generators.is_graphic_Erdos_Gallai(random_degrees):\n",
    "            return random_degrees\n",
    "\n",
    "mean_sigma_pairs = [(mean, sigma)\n",
    "                    for mean in np.arange(0.5, 1.5, 0.05)\n",
    "                    for sigma in np.arange(0.25, 1.25, 0.2)]\n",
    "\n",
    "with mp.Pool(mp.cpu_count()) as pool:\n",
    "    generated_degrees = [i for i in tqdm(pool.imap_unordered(generate_network, mean_sigma_pairs), total=len(mean_sigma_pairs))]"
   ],
   "metadata": {
    "collapsed": false
   }
  },
  {
   "cell_type": "code",
   "execution_count": 31,
   "outputs": [
    {
     "name": "stderr",
     "output_type": "stream",
     "text": [
      "100%|██████████| 100/100 [00:56<00:00,  1.76it/s]"
     ]
    },
    {
     "name": "stdout",
     "output_type": "stream",
     "text": [
      "CPU times: user 508 ms, sys: 110 ms, total: 619 ms\n",
      "Wall time: 56.8 s\n"
     ]
    },
    {
     "name": "stderr",
     "output_type": "stream",
     "text": [
      "\n"
     ]
    }
   ],
   "source": [
    "%%time\n",
    "def get_network_and_params(degrees: List):\n",
    "    current_network = pp.generators.Molloy_Reed(degrees)\n",
    "    current_mean = current_network.mean_degree()\n",
    "    current_neighbour_mean = current_network.mean_neighbor_degree()\n",
    "    return current_mean, current_neighbour_mean\n",
    "\n",
    "\n",
    "with mp.Pool(mp.cpu_count()) as pool:\n",
    "    results = [i for i in tqdm(pool.imap_unordered(get_network_and_params, generated_degrees), total=len(generated_degrees))]\n",
    "\n",
    "mean_arr, sigma_arr, means, neighbour_means, diffs = [], [], [], [], []\n",
    "\n",
    "for mean, sigma in mean_sigma_pairs:\n",
    "    mean_arr.append(mean)\n",
    "    sigma_arr.append(sigma)\n",
    "\n",
    "for mean, neighbour_mean in results:\n",
    "    means.append(mean)\n",
    "    neighbour_means.append(neighbour_mean)\n",
    "    diffs.append(neighbour_mean - mean)"
   ],
   "metadata": {
    "collapsed": false
   }
  },
  {
   "cell_type": "code",
   "execution_count": 32,
   "outputs": [
    {
     "data": {
      "text/plain": "    Mean  Sigma       <k>       <kn>  <kn> - <k>\n0   0.50   0.25  1.226667   1.429348    0.202681\n1   0.50   0.45  1.580000   3.046414    1.466414\n2   0.50   0.65  1.380000   2.115942    0.735942\n3   0.50   0.85  1.266667   1.457895    0.191228\n4   0.50   1.05  2.326667   7.882521    5.555855\n..   ...    ...       ...        ...         ...\n95  1.45   0.25  5.680000  14.694836    9.014836\n96  1.45   0.45  4.786667   8.743733    3.957066\n97  1.45   0.65  4.333333   5.720000    1.386667\n98  1.45   0.85  6.086667  15.421687    9.335020\n99  1.45   1.05  7.333333  20.619091   13.285758\n\n[100 rows x 5 columns]",
      "text/html": "<div>\n<style scoped>\n    .dataframe tbody tr th:only-of-type {\n        vertical-align: middle;\n    }\n\n    .dataframe tbody tr th {\n        vertical-align: top;\n    }\n\n    .dataframe thead th {\n        text-align: right;\n    }\n</style>\n<table border=\"1\" class=\"dataframe\">\n  <thead>\n    <tr style=\"text-align: right;\">\n      <th></th>\n      <th>Mean</th>\n      <th>Sigma</th>\n      <th>&lt;k&gt;</th>\n      <th>&lt;kn&gt;</th>\n      <th>&lt;kn&gt; - &lt;k&gt;</th>\n    </tr>\n  </thead>\n  <tbody>\n    <tr>\n      <th>0</th>\n      <td>0.50</td>\n      <td>0.25</td>\n      <td>1.226667</td>\n      <td>1.429348</td>\n      <td>0.202681</td>\n    </tr>\n    <tr>\n      <th>1</th>\n      <td>0.50</td>\n      <td>0.45</td>\n      <td>1.580000</td>\n      <td>3.046414</td>\n      <td>1.466414</td>\n    </tr>\n    <tr>\n      <th>2</th>\n      <td>0.50</td>\n      <td>0.65</td>\n      <td>1.380000</td>\n      <td>2.115942</td>\n      <td>0.735942</td>\n    </tr>\n    <tr>\n      <th>3</th>\n      <td>0.50</td>\n      <td>0.85</td>\n      <td>1.266667</td>\n      <td>1.457895</td>\n      <td>0.191228</td>\n    </tr>\n    <tr>\n      <th>4</th>\n      <td>0.50</td>\n      <td>1.05</td>\n      <td>2.326667</td>\n      <td>7.882521</td>\n      <td>5.555855</td>\n    </tr>\n    <tr>\n      <th>...</th>\n      <td>...</td>\n      <td>...</td>\n      <td>...</td>\n      <td>...</td>\n      <td>...</td>\n    </tr>\n    <tr>\n      <th>95</th>\n      <td>1.45</td>\n      <td>0.25</td>\n      <td>5.680000</td>\n      <td>14.694836</td>\n      <td>9.014836</td>\n    </tr>\n    <tr>\n      <th>96</th>\n      <td>1.45</td>\n      <td>0.45</td>\n      <td>4.786667</td>\n      <td>8.743733</td>\n      <td>3.957066</td>\n    </tr>\n    <tr>\n      <th>97</th>\n      <td>1.45</td>\n      <td>0.65</td>\n      <td>4.333333</td>\n      <td>5.720000</td>\n      <td>1.386667</td>\n    </tr>\n    <tr>\n      <th>98</th>\n      <td>1.45</td>\n      <td>0.85</td>\n      <td>6.086667</td>\n      <td>15.421687</td>\n      <td>9.335020</td>\n    </tr>\n    <tr>\n      <th>99</th>\n      <td>1.45</td>\n      <td>1.05</td>\n      <td>7.333333</td>\n      <td>20.619091</td>\n      <td>13.285758</td>\n    </tr>\n  </tbody>\n</table>\n<p>100 rows × 5 columns</p>\n</div>"
     },
     "execution_count": 32,
     "metadata": {},
     "output_type": "execute_result"
    }
   ],
   "source": [
    "df = pd.DataFrame({\n",
    "    'Mean': mean_arr,\n",
    "    'Sigma': sigma_arr,\n",
    "    '<k>': means,\n",
    "    '<kn>': neighbour_means,\n",
    "    '<kn> - <k>': diffs,\n",
    "    })\n",
    "\n",
    "df"
   ],
   "metadata": {
    "collapsed": false
   }
  },
  {
   "cell_type": "markdown",
   "source": [
    "In this table we can observe the friendship paradox - when the mean degree(\\<k\\>) is smaller than the mean neighbor degree(\\<kn\\>). As we can judge, the friendship paradox is stronger with increasing mean and standard deviation. It happens because during enhancing the standard deviation, degree distribution becomes more scattered and hence some nodes will have much more connections than others. Since we have a mean defined for lognormal function, the degree of random nodes will be near this mean which we set for the lognormal function and will not change much with the deviation."
   ],
   "metadata": {
    "collapsed": false
   }
  },
  {
   "cell_type": "code",
   "execution_count": 33,
   "outputs": [
    {
     "data": {
      "text/plain": "Text(0.5, 1.0, 'Difference between mean degree and mean neighbour degree depend on the standard deviation')"
     },
     "execution_count": 33,
     "metadata": {},
     "output_type": "execute_result"
    },
    {
     "data": {
      "text/plain": "<Figure size 432x288 with 1 Axes>",
      "image/png": "[encoded data removed]"
     },
     "metadata": {
      "needs_background": "light"
     },
     "output_type": "display_data"
    }
   ],
   "source": [
    "first_mean = df[df.Mean == 0.5]\n",
    "plt.plot(first_mean.Sigma, first_mean['<kn> - <k>'])\n",
    "plt.xlabel(\"Standard deviation\")\n",
    "plt.ylabel(\"<kn> - <k>\")\n",
    "plt.title(\"Difference between mean degree and mean neighbour degree depend on the standard deviation\")"
   ],
   "metadata": {
    "collapsed": false
   }
  },
  {
   "cell_type": "code",
   "execution_count": 32,
   "outputs": [
    {
     "data": {
      "text/plain": "Text(0.5, 1.0, 'Difference between mean degree and mean neighbour degree depend on the mean degree')"
     },
     "execution_count": 32,
     "metadata": {},
     "output_type": "execute_result"
    },
    {
     "data": {
      "text/plain": "<Figure size 432x288 with 1 Axes>",
      "image/png": "[encoded data removed]"
     },
     "metadata": {
      "needs_background": "light"
     },
     "output_type": "display_data"
    }
   ],
   "source": [
    "first_mean = df[df.Sigma == 0.25]\n",
    "plt.plot(first_mean.Mean, first_mean['<kn> - <k>'])\n",
    "plt.xlabel(\"Mean\")\n",
    "plt.ylabel(\"<kn> - <k>\")\n",
    "plt.title(\"Difference between mean degree and mean neighbour degree depend on the mean degree\")"
   ],
   "metadata": {
    "collapsed": false
   }
  },
  {
   "cell_type": "markdown",
   "source": [
    "### (b) Consider a number sequence $\\{a_{k}\\}_{k=0}^{\\infty}$. We call a power series $$F_{0}(x) = \\sum_{k=0}^{\\infty} a_{k} x^{k}$$ ### a generating function of the sequence $\\{a_{k}\\}_{k=0}^{\\infty}$. Consider the sequence $\\{b_{k}\\}_{k=0}^{\\infty}$ with $$\\{b_{k}\\}_{k=0}^{\\infty} = \\{a_{0}, 0, a_{2}, 0, \\ldots\\}$$ ### Specify a function $F_{1}(x)$ that generate $\\{b_{k}\\}_{k=0}^{\\infty}$, where $F_{1}(x)$ is the expression is the terms of $F_{0}(x)$. Hint: consider the sequence generated by $F_{0}(-x)$."
   ],
   "metadata": {
    "collapsed": false
   }
  },
  {
   "cell_type": "markdown",
   "source": [
    "Lets define that $$F_{0}(-x) = \\sum_{k=0}^{\\infty} a_{k} (-x)^{k} = \\sum_{k=0}^{\\infty} a_{2k} x^{2k} - \\sum_{k=0}^{\\infty} a_{2k + 1} x^{2k + 1}$$\n",
    "So for even $k$ $F_{0}(x)$ and $F_{0}(-x)$ give same sum parts $a_{k}x^{k}$ and for not even - parts with different signs. So,\n",
    "$$F_{0}(-x) + F_{0}(x) = 2\\sum_{k=0}^{\\infty} a_{2k} x^{2k} = 2\\sum_{k=0}^{\\infty}b_{k}x^{k} = 2 F_{1}(x)$$\n",
    "$$F_{1}(x) = \\frac{F_{0}(x) + F_{0}(-x)}{2}$$"
   ],
   "metadata": {
    "collapsed": false
   }
  },
  {
   "cell_type": "code",
   "execution_count": null,
   "outputs": [],
   "source": [],
   "metadata": {
    "collapsed": false
   }
  }
 ],
 "metadata": {
  "kernelspec": {
   "display_name": "Python 3",
   "language": "python",
   "name": "python3"
  },
  "language_info": {
   "codemirror_mode": {
    "name": "ipython",
    "version": 2
   },
   "file_extension": ".py",
   "mimetype": "text/x-python",
   "name": "python",
   "nbconvert_exporter": "python",
   "pygments_lexer": "ipython2",
   "version": "2.7.6"
  }
 },
 "nbformat": 4,
 "nbformat_minor": 0
}
