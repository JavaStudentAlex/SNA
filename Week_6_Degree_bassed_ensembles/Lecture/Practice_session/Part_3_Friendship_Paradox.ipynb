{
 "cells": [
  {
   "cell_type": "markdown",
   "metadata": {},
   "source": [
    "# 06-03: The Friendship Paradox\n",
    "\n",
    "*November 23 2022*  \n",
    "\n",
    "In the third notebook, we explore the friendship paradox in random and empirical networks."
   ]
  },
  {
   "cell_type": "code",
   "execution_count": 1,
   "metadata": {},
   "outputs": [
    {
     "name": "stderr",
     "output_type": "stream",
     "text": [
      "C:\\Users\\ingos\\Anaconda3\\lib\\site-packages\\pandas\\compat\\_optional.py:138: UserWarning: Pandas requires version '2.7.0' or newer of 'numexpr' (version '2.6.9' currently installed).\n",
      "  warnings.warn(msg, UserWarning)\n"
     ]
    },
    {
     "data": {
      "text/html": [
       "\n",
       "    <script charset=\"utf-8\">\n",
       "    // Load via requireJS if available (jupyter notebook environment)\n",
       "    try {\n",
       "    require.config({\n",
       "    paths: {\n",
       "    d3: \"https://d3js.org/d3.v5.min.js\".replace(\".js\", \"\")\n",
       "    }\n",
       "    });\n",
       "    console.log(\"OKAY: requireJS was detected\");\n",
       "    }\n",
       "    catch(err){\n",
       "    console.log(err);\n",
       "    console.log(\"ERROR: NO requireJS was detected\");\n",
       "    };\n",
       "    require(['d3'], function(d3){\n",
       "    console.log(\"OKAY: d3js was detected\");\n",
       "    });\n",
       "    </script>\n",
       "    "
      ],
      "text/plain": [
       "<IPython.core.display.HTML object>"
      ]
     },
     "metadata": {},
     "output_type": "display_data"
    },
    {
     "name": "stderr",
     "output_type": "stream",
     "text": [
      "C:\\Users\\ingos\\Anaconda3\\lib\\site-packages\\statsmodels\\tools\\_testing.py:19: FutureWarning: pandas.util.testing is deprecated. Use the functions in the public API at pandas.testing instead.\n",
      "  import pandas.util.testing as tm\n"
     ]
    }
   ],
   "source": [
    "import pathpy as pp\n",
    "import numpy as np\n",
    "\n",
    "import seaborn as sns\n",
    "import matplotlib.pyplot as plt\n",
    "\n",
    "plt.style.use('default')\n",
    "sns.set_style(\"whitegrid\")"
   ]
  },
  {
   "cell_type": "markdown",
   "metadata": {},
   "source": [
    "# The Friendship Paradox\n",
    "\n",
    "We first use pathpy to recover the values regarding the friendship paradox that we presented in the theory lecture. For this we load the network `lotr` from the database."
   ]
  },
  {
   "cell_type": "code",
   "execution_count": 3,
   "metadata": {},
   "outputs": [
    {
     "name": "stderr",
     "output_type": "stream",
     "text": [
      "[12-01 00:09:22: WARNING] 67 edges existed already and were not be considered. To capture those edges, consider creating a multiedge and/or directed network.\n"
     ]
    },
    {
     "name": "stdout",
     "output_type": "stream",
     "text": [
      "Uid:\t\t\t0x275f902cf60\n",
      "Type:\t\t\tNetwork\n",
      "Directed:\t\tFalse\n",
      "Multi-Edges:\t\tFalse\n",
      "Number of nodes:\t139\n",
      "Number of edges:\t634\n"
     ]
    },
    {
     "data": {
      "text/plain": [
       "<pathpy.models.network.Network object at 0x00000275F902CF60>"
      ]
     },
     "execution_count": 3,
     "metadata": {},
     "output_type": "execute_result"
    }
   ],
   "source": [
    "n = pp.io.sql.read_network('../data/networks.db', sql='SELECT DISTINCT source, target FROM lotr',directed=False)\n",
    "print(n)\n",
    "n"
   ]
  },
  {
   "cell_type": "markdown",
   "metadata": {},
   "source": [
    "We first study the friendship paradox at the local level, i.e. at the level of a single node. We pick the character `Tom` and calculate how many friends `Tom` has, i.e. the degree of Tom. We then calculate how many friends the friends of `Tom` have on average:"
   ]
  },
  {
   "cell_type": "code",
   "execution_count": 4,
   "metadata": {},
   "outputs": [
    {
     "name": "stdout",
     "output_type": "stream",
     "text": [
      "Tom has 9 friends: ['Sam', 'Bilbo', 'Elrond', 'Frodo', 'Galadriel', 'Gandalf', 'Goldberry', 'Butterbur', 'Merry']:\n",
      "Tom's friends have 27.3 friends on average.\n"
     ]
    }
   ],
   "source": [
    "v = \"Tom\"\n",
    "n_friends = n.degrees()[v]\n",
    "n_friendsfriends = 0\n",
    "for w in n.successors[v]:\n",
    "    n_friendsfriends += n.degrees()[w.uid]\n",
    "\n",
    "print(\"{} has {} friends: {}:\".format(v, n_friends, [f.uid for f in n.successors[v]]))\n",
    "print(\"{}'s friends have {:2.1f} friends on average.\".format(v, n_friendsfriends/n_friends))"
   ]
  },
  {
   "cell_type": "markdown",
   "metadata": {},
   "source": [
    "For this specific node we observe the so-called **friendship paradox**, which states that your friends have on average more friends than you. It is called \"paradox\" because intuition might suggest that we are not different from our friends in terms of the degree. Let us test this paradox at the level of the whole network. For this we compare the mean degree in the network with the mean neighbour degree. \n",
    "\n",
    "Using `pathpy` we can compute the mean degree in two ways:"
   ]
  },
  {
   "cell_type": "code",
   "execution_count": 5,
   "metadata": {},
   "outputs": [
    {
     "name": "stdout",
     "output_type": "stream",
     "text": [
      "<k>   =  9.122302158273385\n",
      "<k>   =  9.122302158273381\n"
     ]
    }
   ],
   "source": [
    "print(\"<k>   = \", np.mean(n.degree_raw_moment(k=1)))\n",
    "print(\"<k>   = \", np.mean(n.mean_degree()))"
   ]
  },
  {
   "cell_type": "markdown",
   "metadata": {},
   "source": [
    "For each node $v$ we calculate the mean degree $k_n$ of their neighbours. We then compare the average $\\langle k_n \\rangle$ across all nodes $v$ to the mean degree $\\langle k \\rangle$ calculated above."
   ]
  },
  {
   "cell_type": "code",
   "execution_count": 6,
   "metadata": {},
   "outputs": [
    {
     "name": "stdout",
     "output_type": "stream",
     "text": [
      "<k_n> =  20.01356175330297\n"
     ]
    }
   ],
   "source": [
    "ndegrees = {}\n",
    "\n",
    "for v in n.nodes:\n",
    "    knn = 0\n",
    "    d_v = n.degrees()[v.uid]\n",
    "\n",
    "    for w in n.successors[v.uid]:\n",
    "        knn += n.degrees()[w.uid]\n",
    "\n",
    "    if d_v>0:\n",
    "        ndegrees[v.uid]= knn/d_v\n",
    "\n",
    "print(\"<k_n> = \", np.mean(list(ndegrees.values())))"
   ]
  },
  {
   "cell_type": "markdown",
   "metadata": {},
   "source": [
    "Let us compare this to the result of the function `mean_neighbor_degree()` in `pathpy`"
   ]
  },
  {
   "cell_type": "code",
   "execution_count": 7,
   "metadata": {},
   "outputs": [
    {
     "name": "stdout",
     "output_type": "stream",
     "text": [
      "<k_n> =  19.402208201892744\n"
     ]
    }
   ],
   "source": [
    "print(\"<k_n> = \", np.mean(n.mean_neighbor_degree()))"
   ]
  },
  {
   "cell_type": "markdown",
   "metadata": {},
   "source": [
    "We find a different value because we can calculate the mean neighbour degree in different ways. Above, we have averaged the degrees of the neighbors of each node, which gives a value for each node in the network. We have then averaged those averages to obtain a single value for the whole network. This effectively calculates a double average. We can alternatively calculate all neigbour degrees for all nodes, and the compute a single average for the network, which is what we do in `pathpy`. Let us confirm this:"
   ]
  },
  {
   "cell_type": "code",
   "execution_count": 8,
   "metadata": {},
   "outputs": [
    {
     "name": "stdout",
     "output_type": "stream",
     "text": [
      "<k_n> =  19.402208201892744\n"
     ]
    }
   ],
   "source": [
    "n_degrees = []\n",
    "\n",
    "for v in n.nodes:\n",
    "    d_v = n.degrees()[v.uid]\n",
    "    for w in n.successors[v.uid]:\n",
    "        n_degrees.append(n.degrees()[w.uid])\n",
    "\n",
    "print(\"<k_n> = \", np.mean(n_degrees))"
   ]
  },
  {
   "cell_type": "markdown",
   "metadata": {
    "collapsed": true
   },
   "source": [
    "We find a value that is considerably larger than the average degree of 9.12. We thus observe a friendship paradox in this network. Nevertheless, we may find some nodes in the network for whom the paradox does *not* hold. In the following we study for which nodes the number of friends ($k$) is smaller than the average number ($k_n$) of direct friends that their friends have?\n",
    "\n",
    "To answer this question, we use the following helper function. It produces the same plot that you have seen in L06. It shows the degrees of all nodes on the x-axis, with the corresponding mean neighbour degrees on the y-axis. We further count for how many nodes in this network the friendship paradox holds, i.e. for how many nodes we have $k_n>k$. We finally output those nodes for which the paradox does not hold."
   ]
  },
  {
   "cell_type": "code",
   "execution_count": 9,
   "metadata": {},
   "outputs": [
    {
     "name": "stdout",
     "output_type": "stream",
     "text": [
      "Number of nodes for which k_n > k = 120\n",
      "Number of nodes for which k_n < k = 14\n"
     ]
    },
    {
     "data": {
      "image/png": "[encoded data removed]",
      "text/plain": [
       "<Figure size 640x480 with 1 Axes>"
      ]
     },
     "metadata": {},
     "output_type": "display_data"
    }
   ],
   "source": [
    "def plotNeighbourDegrees(n):\n",
    "    degrees = []\n",
    "    ndegrees = []\n",
    "    \n",
    "    larger = []\n",
    "    smaller = []\n",
    "    for v in n.nodes:\n",
    "        knn = 0\n",
    "        for w in n.successors[v.uid]:\n",
    "            knn += n.degrees()[w.uid]\n",
    "        degrees.append(n.degrees()[v.uid])\n",
    "        \n",
    "        if n.degrees()[v.uid]>0:\n",
    "            nd = knn/n.degrees()[v.uid]\n",
    "            if nd > n.degrees()[v.uid]:\n",
    "                larger.append(v.uid)\n",
    "            elif nd < n.degrees()[v.uid]:\n",
    "                smaller.append(v.uid)\n",
    "            ndegrees.append(nd)\n",
    "        else:\n",
    "            ndegrees.append(0)\n",
    "            \n",
    "    print(\"Number of nodes for which k_n > k =\", len(larger))\n",
    "    print(\"Number of nodes for which k_n < k =\", len(smaller))\n",
    "    \n",
    "    plt.clf()\n",
    "    plt.grid(True)\n",
    "    plt.tick_params(axis='both', which='major', labelsize=15)\n",
    "    plt.xlim([min(pp.statistics.degree_sequence(n)), max(pp.statistics.degree_sequence(n))])\n",
    "    plt.ylim([min(pp.statistics.degree_sequence(n)), max(pp.statistics.degree_sequence(n))])\n",
    "    plt.xlabel('$k$', fontsize=30)\n",
    "    plt.ylabel('$k_n$', fontsize=30)\n",
    "    plt.subplots_adjust(bottom=0.25)\n",
    "    plt.subplots_adjust(left=0.25)\n",
    "    plt.plot(degrees, ndegrees, 'bo')\n",
    "    plt.plot(range(int(max(pp.statistics.degree_sequence(n)))), range(int(max(pp.statistics.degree_sequence(n)))), 'r-')\n",
    "    plt.show()\n",
    "    return larger, smaller\n",
    "\n",
    "larger, smaller = plotNeighbourDegrees(n)"
   ]
  },
  {
   "cell_type": "markdown",
   "metadata": {},
   "source": [
    "Print the names of those characters that have more friends than their friends have on average."
   ]
  },
  {
   "cell_type": "code",
   "execution_count": 10,
   "metadata": {},
   "outputs": [
    {
     "name": "stdout",
     "output_type": "stream",
     "text": [
      "['Merry', 'Gandalf', 'Bilbo', 'Elrond', 'Frodo', 'Aragorn', 'Faramir', 'Pippin', 'Sam', 'Théoden', 'Helm', 'Gimli', 'Legolas', 'Grimbold']\n"
     ]
    }
   ],
   "source": [
    "print(smaller)"
   ]
  },
  {
   "cell_type": "markdown",
   "metadata": {},
   "source": [
    "# Friendship paradox in Random Graphs\n",
    "\n",
    "Is the friendship paradox in this network due to the specific topology, i.e. does it depend on which nodes are connected to each other? We can test this by randomizing the network based on the Molloy-Reed model, i.e. we can fix the degree sequence of the empirical network as a macrostate and generate a random microstate consistent with that microstate. For this, we can use the Molloy-Reed randomization function in `pathpy`, which allows us to create a random realization of a network with the same degree sequence as a given network instance. Note that the mapping between nodes and node degrees is maintained as well."
   ]
  },
  {
   "cell_type": "code",
   "execution_count": 12,
   "metadata": {},
   "outputs": [
    {
     "name": "stdout",
     "output_type": "stream",
     "text": [
      "<k_n> =  19.402208201892744\n",
      "<k> =  9.122302158273381\n"
     ]
    }
   ],
   "source": [
    "n_r = pp.generators.Molloy_Reed_randomize(n)\n",
    "\n",
    "print(\"<k_n> = \", np.mean(n_r.mean_neighbor_degree()))\n",
    "print(\"<k> = \", np.mean(n_r.mean_degree()))"
   ]
  },
  {
   "cell_type": "markdown",
   "metadata": {},
   "source": [
    "We see that the friendship paradox still holds in this random microstate, which suggests that the paradox is due to the degree sequence rather than the specific topology. Let us check how the plot from above looks like now, and let us output the nodes for which the neighbors have - on average - smaller degree than themselves:"
   ]
  },
  {
   "cell_type": "code",
   "execution_count": 13,
   "metadata": {},
   "outputs": [
    {
     "name": "stdout",
     "output_type": "stream",
     "text": [
      "Number of nodes for which k_n > k = 125\n",
      "Number of nodes for which k_n < k = 14\n"
     ]
    },
    {
     "data": {
      "image/png": "[encoded data removed]",
      "text/plain": [
       "<Figure size 640x480 with 1 Axes>"
      ]
     },
     "metadata": {},
     "output_type": "display_data"
    },
    {
     "name": "stdout",
     "output_type": "stream",
     "text": [
      "['Merry', 'Gandalf', 'Bilbo', 'Elrond', 'Frodo', 'Aragorn', 'Peregrin', 'Faramir', 'Pippin', 'Sam', 'Théoden', 'Helm', 'Gimli', 'Legolas']\n"
     ]
    }
   ],
   "source": [
    "larger, smaller = plotNeighbourDegrees(n_r)\n",
    "print(smaller)"
   ]
  },
  {
   "cell_type": "markdown",
   "metadata": {},
   "source": [
    "In a previous practice session, we found that the degree distribution of the network above is different from the expected (Binomial) degree distribution of an Erdös-Renyi random graph model. But does the friendship paradox depend on this specific degree distribution or does it also hold for random graphs? Let us test this:"
   ]
  },
  {
   "cell_type": "code",
   "execution_count": 21,
   "metadata": {},
   "outputs": [
    {
     "name": "stderr",
     "output_type": "stream",
     "text": [
      "generating G(n,p) network: 100%|██████████| 2000/2000 [00:00<00:00, 2215.28it/s]\n"
     ]
    },
    {
     "name": "stdout",
     "output_type": "stream",
     "text": [
      "<k> =  2.111\n",
      "<k_n> =  3.0720037896731407\n",
      "<k_n> - <k> 0.9610037896731405\n"
     ]
    }
   ],
   "source": [
    "n = pp.generators.ER_np(n=2000, p=2/2000)\n",
    "k = n.mean_degree()\n",
    "kn = n.mean_neighbor_degree()\n",
    "print(\"<k> = \", k)\n",
    "print(\"<k_n> = \", kn)\n",
    "print(\"<k_n> - <k>\", kn-k)"
   ]
  },
  {
   "cell_type": "code",
   "execution_count": 22,
   "metadata": {},
   "outputs": [
    {
     "name": "stderr",
     "output_type": "stream",
     "text": [
      "generating G(n,p) network: 100%|██████████| 2000/2000 [00:00<00:00, 2022.45it/s]\n"
     ]
    },
    {
     "name": "stdout",
     "output_type": "stream",
     "text": [
      "<k> =  2.939\n",
      "<k_n> =  3.93841442667574\n",
      "<k_n> - <k> 0.9994144266757399\n"
     ]
    }
   ],
   "source": [
    "n = pp.generators.ER_np(n=2000, p=3/2000)\n",
    "k = n.mean_degree()\n",
    "kn = n.mean_neighbor_degree()\n",
    "print(\"<k> = \", k)\n",
    "print(\"<k_n> = \", kn)\n",
    "print(\"<k_n> - <k>\", kn-k)"
   ]
  },
  {
   "cell_type": "code",
   "execution_count": 23,
   "metadata": {},
   "outputs": [
    {
     "name": "stderr",
     "output_type": "stream",
     "text": [
      "generating G(n,p) network: 100%|██████████| 2000/2000 [00:01<00:00, 1288.32it/s]\n"
     ]
    },
    {
     "name": "stdout",
     "output_type": "stream",
     "text": [
      "<k> =  5.006\n",
      "<k_n> =  5.948861366360368\n",
      "<k_n> - <k> 0.9428613663603675\n"
     ]
    }
   ],
   "source": [
    "n = pp.generators.ER_np(n=2000, p=5/2000)\n",
    "k = n.mean_degree()\n",
    "kn = n.mean_neighbor_degree()\n",
    "print(\"<k> = \", k)\n",
    "print(\"<k_n> = \", kn)\n",
    "print(\"<k_n> - <k>\", kn-k)"
   ]
  },
  {
   "cell_type": "markdown",
   "metadata": {},
   "source": [
    "We find that the difference between the mean neighbour degree and the mean degree is much smaller than before and independent of the connection probability and the mean degree, it is actually close to one. If we do not account for the link (v,w) when calculating the degree of neighbour w of node v, we actually get the same value for both. We can calculate the mean neighbour degree of neighbours $w$ of $v$ without counting the link $(v,w)$ as follows:"
   ]
  },
  {
   "cell_type": "code",
   "execution_count": 24,
   "metadata": {},
   "outputs": [
    {
     "name": "stdout",
     "output_type": "stream",
     "text": [
      "<k> =  5.006\n",
      "<k_n> =  4.948861366360368\n",
      "<k_n> - <k> -0.05713863363963245\n"
     ]
    }
   ],
   "source": [
    "kn = n.mean_neighbor_degree(exclude_neighbor=True)\n",
    "print(\"<k> = \", k)\n",
    "print(\"<k_n> = \", kn)\n",
    "print(\"<k_n> - <k>\", kn-k)"
   ]
  },
  {
   "cell_type": "markdown",
   "metadata": {},
   "source": [
    "Clearly, the friendship paradox cannot apply in networks where all degrees are exactly the same. We can create such a $k$-regular network by applying the Molloy-Reed configuration algorithm to a sequence that consists of a single repeated degree:"
   ]
  },
  {
   "cell_type": "code",
   "execution_count": 16,
   "metadata": {},
   "outputs": [
    {
     "name": "stdout",
     "output_type": "stream",
     "text": [
      "<k> =  2.0\n",
      "<k_n> =  2.0\n",
      "<k_n> - <k> 0.0\n"
     ]
    }
   ],
   "source": [
    "n = pp.generators.Molloy_Reed([2]*100)\n",
    "k = n.mean_degree()\n",
    "kn = n.mean_neighbor_degree()\n",
    "print(\"<k> = \", k)\n",
    "print(\"<k_n> = \", kn)\n",
    "print(\"<k_n> - <k>\", kn-k)"
   ]
  },
  {
   "cell_type": "markdown",
   "metadata": {},
   "source": [
    "For random $G(n,p)$ networks with a Binomial degree distribution we have found that the parameter $p$ of the model does not influence the strength of the friendship paradox. But what about other degree distributions? Let us try this for networks with a given Normal distribution, where we can control the mean and the variance of the distribution."
   ]
  },
  {
   "cell_type": "code",
   "execution_count": 25,
   "metadata": {},
   "outputs": [
    {
     "name": "stdout",
     "output_type": "stream",
     "text": [
      "<k> =\t\t 1.4866666666666666\n",
      "<k_n> =\t\t 1.7085201793721974\n",
      "<k_n>-<k> =\t 0.22185351270553078\n"
     ]
    }
   ],
   "source": [
    "degrees = [1]\n",
    "while not pp.generators.is_graphic_Erdos_Gallai(degrees):\n",
    "    degrees = [int(x) for x in np.random.normal(2, 0.5, 300)]\n",
    "n = pp.generators.Molloy_Reed(degrees)\n",
    "k = n.mean_degree()\n",
    "kn = n.mean_neighbor_degree()\n",
    "print(\"<k> =\\t\\t\", k)\n",
    "print(\"<k_n> =\\t\\t\", kn)\n",
    "print(\"<k_n>-<k> =\\t\", kn-k)"
   ]
  },
  {
   "cell_type": "markdown",
   "metadata": {},
   "source": [
    "Let us first increase the mean degree while keeping the variance constant. Interestingly this decreases the strength of the friendship paradox:"
   ]
  },
  {
   "cell_type": "code",
   "execution_count": 27,
   "metadata": {},
   "outputs": [
    {
     "name": "stdout",
     "output_type": "stream",
     "text": [
      "<k> =\t\t 2.5\n",
      "<k_n> =\t\t 2.64\n",
      "<k_n>-<k> =\t 0.14000000000000012\n"
     ]
    }
   ],
   "source": [
    "degrees = [1]\n",
    "while not pp.generators.is_graphic_Erdos_Gallai(degrees):\n",
    "    degrees = [int(x) for x in np.random.normal(3, 0.5, 300)]\n",
    "n = pp.generators.Molloy_Reed(degrees)\n",
    "k = n.mean_degree()\n",
    "kn = n.mean_neighbor_degree()\n",
    "print(\"<k> =\\t\\t\", k)\n",
    "print(\"<k_n> =\\t\\t\", kn)\n",
    "print(\"<k_n>-<k> =\\t\", kn-k)"
   ]
  },
  {
   "cell_type": "markdown",
   "metadata": {},
   "source": [
    "If we increase the variance while keeping the mean degree constant we find that the strength of the friendship paradox actually increases:"
   ]
  },
  {
   "cell_type": "code",
   "execution_count": 28,
   "metadata": {},
   "outputs": [
    {
     "name": "stdout",
     "output_type": "stream",
     "text": [
      "<k> =\t\t 2.513333333333333\n",
      "<k_n> =\t\t 2.9124668435013263\n",
      "<k_n>-<k> =\t 0.39913351016799314\n"
     ]
    }
   ],
   "source": [
    "degrees = [1]\n",
    "while not pp.generators.is_graphic_Erdos_Gallai(degrees):\n",
    "    degrees = [int(x) for x in np.random.normal(3, 1, 300)]\n",
    "n = pp.generators.Molloy_Reed(degrees)\n",
    "k = n.mean_degree()\n",
    "kn = n.mean_neighbor_degree()\n",
    "print(\"<k> =\\t\\t\", k)\n",
    "print(\"<k_n> =\\t\\t\", kn)\n",
    "print(\"<k_n>-<k> =\\t\", kn-k)"
   ]
  },
  {
   "cell_type": "markdown",
   "metadata": {},
   "source": [
    "Next week, we will analytically explain those observations based on generating functions, which we can use to encode properties of degree distributions of random networks."
   ]
  },
  {
   "cell_type": "markdown",
   "metadata": {},
   "source": []
  }
 ],
 "metadata": {
  "interpreter": {
   "hash": "82db51cffef479cc4d0f53089378e5a2925f9e7adca31d741132ceba61ecca6f"
  },
  "kernelspec": {
   "display_name": "Python 3.7.3 64-bit ('base': conda)",
   "language": "python",
   "name": "python3"
  },
  "language_info": {
   "codemirror_mode": {
    "name": "ipython",
    "version": 3
   },
   "file_extension": ".py",
   "mimetype": "text/x-python",
   "name": "python",
   "nbconvert_exporter": "python",
   "pygments_lexer": "ipython3",
   "version": "3.7.3"
  },
  "metadata": {
   "interpreter": {
    "hash": "82db51cffef479cc4d0f53089378e5a2925f9e7adca31d741132ceba61ecca6f"
   }
  }
 },
 "nbformat": 4,
 "nbformat_minor": 1
}
