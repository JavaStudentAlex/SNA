{
 "cells": [
  {
   "cell_type": "markdown",
   "metadata": {},
   "source": [
    "# 07-03: Strength of Friendship Paradox in Random Networks\n",
    "\n",
    "November 30th 2022\n",
    "\n",
    "In the final practice session, we explore the analytical explanation of the friendship paradox given in lecture 05, and test resulting predictions about the strength of the friendship paradox in random networks with different degree distributions."
   ]
  },
  {
   "cell_type": "code",
   "execution_count": 1,
   "metadata": {},
   "outputs": [
    {
     "data": {
      "text/html": [
       "\n",
       "    <script charset=\"utf-8\">\n",
       "    // Load via requireJS if available (jupyter notebook environment)\n",
       "    try {\n",
       "    require.config({\n",
       "    paths: {\n",
       "    d3: \"https://d3js.org/d3.v5.min.js\".replace(\".js\", \"\")\n",
       "    }\n",
       "    });\n",
       "    console.log(\"OKAY: requireJS was detected\");\n",
       "    }\n",
       "    catch(err){\n",
       "    console.log(err);\n",
       "    console.log(\"ERROR: NO requireJS was detected\");\n",
       "    };\n",
       "    require(['d3'], function(d3){\n",
       "    console.log(\"OKAY: d3js was detected\");\n",
       "    });\n",
       "    </script>\n",
       "    "
      ],
      "text/plain": [
       "<IPython.core.display.HTML object>"
      ]
     },
     "metadata": {},
     "output_type": "display_data"
    }
   ],
   "source": [
    "import pathpy as pp\n",
    "import numpy as np\n",
    "\n",
    "import seaborn as sns\n",
    "import matplotlib.pyplot as plt\n",
    "\n",
    "plt.style.use('default')\n",
    "sns.set_style(\"whitegrid\")"
   ]
  },
  {
   "cell_type": "markdown",
   "metadata": {},
   "source": [
    "### Analytical Explanation of the Friendship Paradox\n",
    "\n",
    "Last week, we have considered the empirical network of character occurrences in The Lord of the Rings, which exhibits a strong friendship paradox."
   ]
  },
  {
   "cell_type": "code",
   "execution_count": 2,
   "metadata": {},
   "outputs": [
    {
     "name": "stderr",
     "output_type": "stream",
     "text": [
      "[11-30 13:32:15: WARNING] 67 edges existed already and were not be considered. To capture those edges, consider creating a multiedge and/or directed network.\n"
     ]
    },
    {
     "name": "stdout",
     "output_type": "stream",
     "text": [
      "Uid:\t\t\t0x2e0f55a5760\n",
      "Type:\t\t\tNetwork\n",
      "Directed:\t\tFalse\n",
      "Multi-Edges:\t\tFalse\n",
      "Number of nodes:\t139\n",
      "Number of edges:\t634\n",
      "<k> =  9.122302158273381\n",
      "<k_n> =  19.402208201892744\n",
      "<k_n> - <k> 10.279906043619363\n"
     ]
    }
   ],
   "source": [
    "n = pp.io.sql.read_network('../data/networks.db', sql='SELECT DISTINCT source, target FROM lotr',directed=False)\n",
    "print(n)\n",
    "k = n.mean_degree()\n",
    "kn = n.mean_neighbor_degree()\n",
    "print(\"<k> = \", k)\n",
    "print(\"<k_n> = \", kn)\n",
    "print(\"<k_n> - <k>\", kn-k)"
   ]
  },
  {
   "cell_type": "markdown",
   "metadata": {},
   "source": [
    "Using generating functions, we explained that the friendship paradox holds in random networks iff the degree distribution exhibits positive variance. We test this by generating a random network with the same degree sequence like the network above. For this, we can use the Molloy-Reed model implementation of `pathpy`, which allows us to create a random realization of a network with the same degree sequence:"
   ]
  },
  {
   "cell_type": "code",
   "execution_count": 3,
   "metadata": {},
   "outputs": [
    {
     "name": "stdout",
     "output_type": "stream",
     "text": [
      "Uid:\t\t\t0x2e0f55f0b80\n",
      "Type:\t\t\tNetwork\n",
      "Directed:\t\tFalse\n",
      "Multi-Edges:\t\tFalse\n",
      "Number of nodes:\t139\n",
      "Number of edges:\t634\n",
      "<k> =  9.122302158273381\n",
      "<k_n> =  19.402208201892744\n",
      "<k_n> - <k> 10.279906043619363\n"
     ]
    }
   ],
   "source": [
    "n_rand = pp.generators.Molloy_Reed_randomize(n)\n",
    "print(n_rand)\n",
    "k = n_rand.mean_degree()\n",
    "kn = n_rand.mean_neighbor_degree()\n",
    "print(\"<k> = \", k)\n",
    "print(\"<k_n> = \", kn)\n",
    "print(\"<k_n> - <k>\", kn-k)"
   ]
  },
  {
   "cell_type": "markdown",
   "metadata": {},
   "source": [
    "We find that the strength of the friendship paradox is identical to the empirical network, thus confirming that it can be explained by the network's degree sequence. What if we generate a random Erdös-Renyi network with the same number of nodes and links?"
   ]
  },
  {
   "cell_type": "code",
   "execution_count": 9,
   "metadata": {},
   "outputs": [
    {
     "name": "stdout",
     "output_type": "stream",
     "text": [
      "Uid:\t\t\t0x2e0f58b52e0\n",
      "Type:\t\t\tNetwork\n",
      "Directed:\t\tFalse\n",
      "Multi-Edges:\t\tFalse\n",
      "Number of nodes:\t139\n",
      "Number of edges:\t634\n",
      "<k> =  9.122302158273381\n",
      "<k_n> =  10.230283911671924\n",
      "<k_n> - <k> 1.1079817533985423\n"
     ]
    }
   ],
   "source": [
    "n_rand = pp.generators.ER_nm_randomize(n)\n",
    "print(n_rand)\n",
    "k = n_rand.mean_degree()\n",
    "kn = n_rand.mean_neighbor_degree()\n",
    "print(\"<k> = \", k)\n",
    "print(\"<k_n> = \", kn)\n",
    "print(\"<k_n> - <k>\", kn-k)"
   ]
  },
  {
   "cell_type": "markdown",
   "metadata": {},
   "source": [
    "We find that the difference between the mean neighbour degree and the mean degree is much smaller than in the empirical network. It is actually close to one, which is consistent with out analytical finding from the lecture. Hence, in Erdös-Renyi networks, if we do not account for the link (v,w) when calculating the degree of neighbours w of node v (i.e. if we consider the excess degree distribution rather than the neighbour degree distribution), we actually get the same distribution as if we were to consider the degrees of randomly chosen nodes. Let us test this: "
   ]
  },
  {
   "cell_type": "code",
   "execution_count": 10,
   "metadata": {},
   "outputs": [
    {
     "data": {
      "text/plain": [
       "<matplotlib.legend.Legend at 0x2e0f57b9be0>"
      ]
     },
     "execution_count": 10,
     "metadata": {},
     "output_type": "execute_result"
    },
    {
     "data": {
      "image/png": "[encoded data removed]",
      "text/plain": [
       "<Figure size 640x480 with 1 Axes>"
      ]
     },
     "metadata": {},
     "output_type": "display_data"
    }
   ],
   "source": [
    "degrees = []\n",
    "neighbor_degrees = []\n",
    "excess_degrees = []\n",
    "for i in range(10000):\n",
    "     v = np.random.choice(list(n_rand.nodes.uids))\n",
    "     degrees.append(n_rand.degrees()[v])\n",
    "     if n_rand.degrees()[v]>0:\n",
    "        w = np.random.choice(list(x.uid for x in n_rand.successors[v]))\n",
    "        neighbor_degrees.append(n_rand.degrees()[w])\n",
    "        excess_degrees.append(n_rand.degrees()[w] - 1)\n",
    "plt.hist(degrees, color='blue', label='degrees')\n",
    "plt.hist(neighbor_degrees, color='orange',  label='neighbor degrees')\n",
    "plt.hist(excess_degrees, color='red', label='excess degrees')\n",
    "plt.legend()"
   ]
  },
  {
   "cell_type": "markdown",
   "metadata": {},
   "source": [
    "What differences between the mean degree and the mean neighbor degree do we expect in a network? We can use the analysis from the lecture to calculate this for any degree distribution, simply based on the first and second raw moment of the degree distribution.\n",
    "\n",
    "For the expected neighbour degree we found: $\\frac{\\langle k^2 \\rangle}{\\langle k \\rangle}$\n",
    "\n",
    "For the difference to the mean degree we thus find:\n",
    "\n",
    "$\\frac{\\langle k^2 \\rangle}{\\langle k \\rangle} - \\langle k \\rangle = \\frac{\\langle k^2 \\rangle - \\langle k \\rangle^2}{\\langle k \\rangle} = \\frac{\\sigma^2}{\\langle k \\rangle}$\n",
    "\n",
    "where $\\sigma^2$ is the variance of the degree distribution (remember the MOSSOM rule, i.e. variance is the mean of squares minus the square of means).\n",
    "\n",
    "Hence, the strength of the friendship paradox depends on the ratio between variance and mean of the degree distribution, which in the Erdös-Renyi network is one because for a Poisson distribution the variance is equal to the mean! Let us test this in the empirical network:"
   ]
  },
  {
   "cell_type": "code",
   "execution_count": 11,
   "metadata": {},
   "outputs": [
    {
     "name": "stdout",
     "output_type": "stream",
     "text": [
      "<k> \t\t=  9.122302158273381\n",
      "<k_n> \t\t=  19.402208201892744\n",
      "<k_n> - <k> \t=  10.279906043619363\n",
      "Var/Mean \t=  10.279906043619363\n"
     ]
    }
   ],
   "source": [
    "k = n.mean_degree()\n",
    "kn = n.mean_neighbor_degree()\n",
    "degrees = n.degree_sequence()\n",
    "print(\"<k> \\t\\t= \", k)\n",
    "print(\"<k_n> \\t\\t= \", kn)\n",
    "print(\"<k_n> - <k> \\t= \", kn-k)\n",
    "print(\"Var/Mean \\t= \", np.var(degrees)/np.mean(degrees))"
   ]
  },
  {
   "cell_type": "markdown",
   "metadata": {},
   "source": [
    "Let us try this for random microstates from the statistical ensemble of Molloy-Reed networks with a different degree distribution:"
   ]
  },
  {
   "cell_type": "code",
   "execution_count": 12,
   "metadata": {},
   "outputs": [
    {
     "name": "stdout",
     "output_type": "stream",
     "text": [
      "<k> \t\t=  1.9666666666666666\n",
      "<k_n> \t\t=  6.406779661016949\n",
      "<k_n> - <k> \t=  4.440112994350282\n",
      "Var/Mean \t=  4.440112994350282\n"
     ]
    }
   ],
   "source": [
    "degrees = [1]\n",
    "while not pp.generators.is_graphic_Erdos_Gallai(degrees):\n",
    "    degrees = np.random.zipf(2.5, 300)\n",
    "n = pp.generators.Molloy_Reed(degrees)\n",
    "k = n.mean_degree()\n",
    "kn = n.mean_neighbor_degree()\n",
    "print(\"<k> \\t\\t= \", k)\n",
    "print(\"<k_n> \\t\\t= \", kn)\n",
    "print(\"<k_n> - <k> \\t= \", kn-k)\n",
    "print(\"Var/Mean \\t= \", np.var(degrees)/np.mean(degrees))"
   ]
  },
  {
   "cell_type": "markdown",
   "metadata": {},
   "source": [
    "For a Erdös-Renyi network, the variance of the degree distribution divided by the mean degree is actually one. Below we do not obtain a value of exactly one because we estimate the variance and mean of the distribution based on the degree sample rather than using the known expected value and variance from the underlying Poisson/Binomial distribution."
   ]
  },
  {
   "cell_type": "code",
   "execution_count": 13,
   "metadata": {},
   "outputs": [
    {
     "name": "stdout",
     "output_type": "stream",
     "text": [
      "<k> =\t\t 2.028\n",
      "<k_n> =\t\t 2.978303747534517\n",
      "<k_n> - <k> =\t 0.9503037475345169\n",
      "Var/Mean =\t 0.9503037475345166\n"
     ]
    }
   ],
   "source": [
    "n = pp.generators.ER_np(n=1000, p=2/1000)\n",
    "degrees = pp.statistics.degree_sequence(n)\n",
    "k = n.mean_degree()\n",
    "kn = n.mean_neighbor_degree()\n",
    "print(\"<k> =\\t\\t\", k)\n",
    "print(\"<k_n> =\\t\\t\", kn)\n",
    "print(\"<k_n> - <k> =\\t\", kn-k)\n",
    "print(\"Var/Mean =\\t\", np.var(degrees)/np.mean(degrees))"
   ]
  },
  {
   "cell_type": "markdown",
   "metadata": {},
   "source": [
    "This leads us to an interesting fact: We know that the limiting degree distribution of sparse Erdös-Renyi networks is a Poisson distribution where both the mean and the variance are $\\lambda=np$. This approximation holds for large networks but what about small networks, which we know have a Binomial distribution with mean $np$ and variance $np(1-p)$. In this case, the term that determines the strength of the friendship paradox actually becomes:\n",
    "\n",
    "$\\frac{\\langle k^2 \\rangle}{\\langle k \\rangle} - \\langle k \\rangle = \\frac{\\sigma^2}{\\langle k \\rangle} = \\frac{np(1-p)}{np} = 1-p \\rightarrow 1 (p \\rightarrow 0)$\n",
    "\n",
    "For large sparse networks with fixed mean degree, the strength of the friendship paradox converges to one, since $p \\rightarrow 0$ for $np \\rightarrow \\text{const}$. However, for sufficiently small networks and sufficiently large $p$, we should be able to see the discrepancy between the prediction derived from the Poisson approximation and the Binomial degree distribution. Let us try this:\n"
   ]
  },
  {
   "cell_type": "code",
   "execution_count": 14,
   "metadata": {},
   "outputs": [
    {
     "data": {
      "text/plain": [
       "<matplotlib.lines.Line2D at 0x2e0f58ffcd0>"
      ]
     },
     "execution_count": 14,
     "metadata": {},
     "output_type": "execute_result"
    },
    {
     "data": {
      "image/png": "[encoded data removed]",
      "text/plain": [
       "<Figure size 640x480 with 1 Axes>"
      ]
     },
     "metadata": {},
     "output_type": "display_data"
    }
   ],
   "source": [
    "diffs = []\n",
    "\n",
    "for i in range(1000):\n",
    "    n = pp.generators.ER_np(n=50, p=3/50)\n",
    "    k = n.mean_degree()\n",
    "    kn = n.mean_neighbor_degree()\n",
    "    diffs.append(kn-k)\n",
    "plt.hist(diffs)\n",
    "plt.axvline(1, color='red')\n",
    "plt.axvline(1-(3/50), color='green')"
   ]
  },
  {
   "cell_type": "markdown",
   "metadata": {},
   "source": [
    "Indeed, the center of the empirical distribution is slightly smaller than one (red line), which we would expect based on the Poisson approximation. This shift is however expected, as shown by the green line, which is the expected strength of the friendship paradox based on the Binomial distribution!"
   ]
  },
  {
   "cell_type": "markdown",
   "metadata": {},
   "source": [
    "The Poisson distribution has only a single parameter and we cannot change the mean of the distribution without changing the variance proportionally. Hence, the strength of the friendship paradox is not affected by the mean degree:"
   ]
  },
  {
   "cell_type": "code",
   "execution_count": 15,
   "metadata": {},
   "outputs": [
    {
     "name": "stdout",
     "output_type": "stream",
     "text": [
      "<k> =\t\t 6.946\n",
      "<k_n> =\t\t 7.980996256838468\n",
      "<k_n> - <k> =\t 1.0349962568384683\n",
      "<k_n - k> =\t 1\n"
     ]
    }
   ],
   "source": [
    "n = pp.generators.ER_np(n=1000, p=7/1000)\n",
    "degrees = pp.statistics.degree_sequence(n)\n",
    "k = n.mean_degree()\n",
    "kn = n.mean_neighbor_degree()\n",
    "print(\"<k> =\\t\\t\", k)\n",
    "print(\"<k_n> =\\t\\t\", kn)\n",
    "print(\"<k_n> - <k> =\\t\", kn-k)\n",
    "print(\"<k_n - k> =\\t\", 1)"
   ]
  },
  {
   "cell_type": "markdown",
   "metadata": {},
   "source": [
    "That is different for other degree distributions, e.g. for the Normal distribution, where we can control the mean and the variance separately."
   ]
  },
  {
   "cell_type": "code",
   "execution_count": 20,
   "metadata": {},
   "outputs": [
    {
     "name": "stdout",
     "output_type": "stream",
     "text": [
      "<k> =\t\t 2.3933333333333335\n",
      "<k_n> =\t\t 2.8551532033426184\n",
      "<k_n>-<k> =\t 0.4618198700092848\n",
      "<k_n - k> =\t 0.3333333333333333\n"
     ]
    }
   ],
   "source": [
    "degrees = [1]\n",
    "while not pp.generators.is_graphic_Erdos_Gallai(degrees):\n",
    "    degrees = [int(x) for x in np.random.normal(3, 1, 300)]\n",
    "n = pp.generators.Molloy_Reed(degrees)\n",
    "k = n.mean_degree()\n",
    "kn = n.mean_neighbor_degree()\n",
    "print(\"<k> =\\t\\t\", k)\n",
    "print(\"<k_n> =\\t\\t\", kn)\n",
    "print(\"<k_n>-<k> =\\t\", kn-k)\n",
    "print(\"<k_n - k> =\\t\", 1/3)"
   ]
  },
  {
   "cell_type": "markdown",
   "metadata": {},
   "source": [
    "If we increase the mean degre while keeping the variance constant, we reduce the strength of the friendship paradox:"
   ]
  },
  {
   "cell_type": "code",
   "execution_count": 20,
   "metadata": {},
   "outputs": [
    {
     "name": "stdout",
     "output_type": "stream",
     "text": [
      "<k> =\t\t 9.5\n",
      "<k_n> =\t\t 9.616140350877194\n",
      "<k_n>-<k> =\t 0.11614035087719365\n",
      "<k_n - k> =\t 0.1\n"
     ]
    }
   ],
   "source": [
    "degrees = [1]\n",
    "while not pp.generators.is_graphic_Erdos_Gallai(degrees):\n",
    "    degrees = [int(x) for x in np.random.normal(10, 1, 300)]\n",
    "n = pp.generators.Molloy_Reed(degrees)\n",
    "k = n.mean_degree()\n",
    "kn = n.mean_neighbor_degree()\n",
    "print(\"<k> =\\t\\t\", k)\n",
    "print(\"<k_n> =\\t\\t\", kn)\n",
    "print(\"<k_n>-<k> =\\t\", kn-k)\n",
    "print(\"<k_n - k> =\\t\", 1/10)"
   ]
  },
  {
   "cell_type": "markdown",
   "metadata": {},
   "source": [
    "If we increase the variance while keeping the mean degree constant we increase the strength of the friendship paradox:"
   ]
  },
  {
   "cell_type": "code",
   "execution_count": 21,
   "metadata": {},
   "outputs": [
    {
     "name": "stdout",
     "output_type": "stream",
     "text": [
      "<k> =\t\t 9.473333333333333\n",
      "<k_n> =\t\t 9.877551020408163\n",
      "<k_n>-<k> =\t 0.40421768707482997\n",
      "<k_n - k> =\t 0.4\n"
     ]
    }
   ],
   "source": [
    "degrees = [1]\n",
    "while not pp.generators.is_graphic_Erdos_Gallai(degrees):\n",
    "    degrees = [int(x) for x in np.random.normal(10, 2, 300)]\n",
    "n = pp.generators.Molloy_Reed(degrees)\n",
    "k = n.mean_degree()\n",
    "kn = n.mean_neighbor_degree()\n",
    "print(\"<k> =\\t\\t\", k)\n",
    "print(\"<k_n> =\\t\\t\", kn)\n",
    "print(\"<k_n>-<k> =\\t\", kn-k)\n",
    "print(\"<k_n - k> =\\t\", 4/10)"
   ]
  },
  {
   "cell_type": "markdown",
   "metadata": {},
   "source": [
    "In general, we can say that we expect networks with a small mean degree and a large variance in the degrees to exhibit a strong friendship paradox, which is consistent with the fact that we observe a strong friendship paradox in many social networks."
   ]
  }
 ],
 "metadata": {
  "interpreter": {
   "hash": "82db51cffef479cc4d0f53089378e5a2925f9e7adca31d741132ceba61ecca6f"
  },
  "kernelspec": {
   "display_name": "Python 3 (ipykernel)",
   "language": "python",
   "name": "python3"
  },
  "language_info": {
   "codemirror_mode": {
    "name": "ipython",
    "version": 3
   },
   "file_extension": ".py",
   "mimetype": "text/x-python",
   "name": "python",
   "nbconvert_exporter": "python",
   "pygments_lexer": "ipython3",
   "version": "3.9.7"
  }
 },
 "nbformat": 4,
 "nbformat_minor": 2
}
