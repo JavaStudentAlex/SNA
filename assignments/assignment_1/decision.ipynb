{
 "cells": [
  {
   "cell_type": "markdown",
   "source": [
    "### 1.a. Investigate and explain the Bellman-Ford algorithm to calculate all shortest paths between a given node v and all other nodes w in a weighted network. Implement the algorithm in python and test your method in the example network from the theory lecture?"
   ],
   "metadata": {
    "collapsed": false,
    "pycharm": {
     "name": "#%% md\n"
    }
   }
  },
  {
   "cell_type": "markdown",
   "source": [
    "The Bellman Ford algorithm works in three steps:\n",
    "* initialization\n",
    "* searching for paths\n",
    "* checking for cycle with negative weights\n",
    "The search step in algorithm works with that fact that in the worst case the algorithm has the most far node in n - 1 steps. So the algorithm works with two cycle. The first one iterate from 1 to n - 1 cases. The second cycle each time iterate through the all edges and check if the edge can change the value of the shortest path of the connected nodes."
   ],
   "metadata": {
    "collapsed": false,
    "pycharm": {
     "name": "#%% md\n"
    }
   }
  },
  {
   "cell_type": "code",
   "execution_count": null,
   "outputs": [],
   "source": [
    "import pathpy as pp\n",
    "\n",
    "n = pp.Network(directed=True)\n",
    "n.add_edges(\n",
    "    pp.Edge('f','g', weight=2, uid='f-g'),\n",
    "    pp.Edge('g','d', weight=2, uid='g-d'),\n",
    "    pp.Edge('f','d', weight=3, uid='f-d'),\n",
    "    pp.Edge('f','e', weight=1, uid='f-e'),\n",
    "    pp.Edge('e','f', weight=1, uid='e-f'),\n",
    "    pp.Edge('d','e', weight=2, uid='d-e'),\n",
    "    pp.Edge('b','d', weight=1, uid='b-d'),\n",
    "    pp.Edge('b','c', weight=2, uid='b-c'),\n",
    "    pp.Edge('a','b', weight=1, uid='a-b'),\n",
    "    pp.Edge('c','a', weight=1, uid='c-a')\n",
    "    )\n",
    "\n",
    "n.plot(node_color=\"red\")"
   ],
   "metadata": {
    "collapsed": false,
    "pycharm": {
     "name": "#%%\n"
    }
   }
  },
  {
   "cell_type": "code",
   "execution_count": null,
   "outputs": [],
   "source": [
    "from typing import Dict, Any\n",
    "from copy import copy\n",
    "from math import inf\n",
    "\n",
    "def bellman_form_search_iteration(network: pp.Network, shortest_paths: Dict[str, float]) -> Dict[str, float]:\n",
    "\n",
    "    for _ in range(len(network.nodes) - 1):\n",
    "        for edge in network.edges:\n",
    "            left_node_id, right_node_id = edge.nodes.keys()\n",
    "\n",
    "            if not network.directed and shortest_paths[left_node_id] > shortest_paths[right_node_id]:\n",
    "                left_node_id, right_node_id = right_node_id, left_node_id\n",
    "\n",
    "            if (new_value := shortest_paths[left_node_id] + edge.weight()) < shortest_paths[right_node_id]:\n",
    "                shortest_paths[right_node_id] = new_value\n",
    "    return shortest_paths\n",
    "\n",
    "\n",
    "def bellman_ford_nearest_routes(network: pp.Network, start_node_id: str) -> Dict[str, Any]:\n",
    "    shortest_paths = {}\n",
    "\n",
    "    # init the start point\n",
    "    for node in network.nodes:\n",
    "        if node.uid == start_node_id:\n",
    "            value = 0\n",
    "        else:\n",
    "            value = inf\n",
    "        shortest_paths[node.uid] = value\n",
    "\n",
    "    # Find the paths\n",
    "    result = bellman_form_search_iteration(network, shortest_paths)\n",
    "\n",
    "    # Check the cycles with edge wights less than 0\n",
    "    result2 = bellman_form_search_iteration(network, copy(result))\n",
    "\n",
    "    if result2 != result:\n",
    "        result = {\"Error\": \"The graph with cycle with edges weight less 0!\"}\n",
    "\n",
    "    return result\n",
    "\n",
    "bellman_ford_nearest_routes(n, 'g')"
   ],
   "metadata": {
    "collapsed": false,
    "pycharm": {
     "name": "#%%\n"
    }
   }
  },
  {
   "cell_type": "markdown",
   "source": [
    "### 1.b. Develop an algorithm that uses the powers of adjacency matrix to calculate the diameter of a directed network. You can assume that the network is connected i.e. your algorithm does not need to terminate if the network is disconnected. Implement your algorithm in python and test it in a directed network e.g. using the software package pathpy?"
   ],
   "metadata": {
    "collapsed": false,
    "pycharm": {
     "name": "#%% md\n"
    }
   }
  },
  {
   "cell_type": "markdown",
   "source": [
    "There is a property of representing graphs as adjacency matrix, which is to continously take powers of the matrix to see when the last zero entry disappears. At that point, we can deduce the diameter of the matrix."
   ],
   "metadata": {
    "collapsed": false,
    "pycharm": {
     "name": "#%% md\n"
    }
   }
  },
  {
   "cell_type": "code",
   "execution_count": null,
   "outputs": [],
   "source": [
    "import pathpy as pp\n",
    "\n",
    "n = pp.Network(directed=False)\n",
    "n.add_edges(\n",
    "    pp.Edge('f','g'),\n",
    "    pp.Edge('g','d'),\n",
    "    pp.Edge('f','d'),\n",
    "    pp.Edge('f','e'),\n",
    "    pp.Edge('d','e'),\n",
    "    pp.Edge('b','d'),\n",
    "    pp.Edge('b','c'),\n",
    "    pp.Edge('a','b'),\n",
    "    pp.Edge('c','a')\n",
    "    )\n",
    "\n",
    "n.plot(node_color=\"red\")"
   ],
   "metadata": {
    "collapsed": false,
    "pycharm": {
     "name": "#%%\n"
    }
   }
  },
  {
   "cell_type": "markdown",
   "source": [
    "With the assumption that the algorithm does not need to terminate if the network is disconnected, such a function can be written to find the diamater of a connected network:"
   ],
   "metadata": {
    "collapsed": false,
    "pycharm": {
     "name": "#%% md\n"
    }
   }
  },
  {
   "cell_type": "code",
   "execution_count": null,
   "outputs": [],
   "source": [
    "import numpy as np\n",
    "\n",
    "def find_diameter(n: pp.Network):\n",
    "    adj_matrix = n.adjacency_matrix().todense()\n",
    "    i = 0\n",
    "\n",
    "    while not np.all(adj_matrix):\n",
    "        i += 1\n",
    "        adj_matrix += pow(adj_matrix, i)\n",
    "    return i\n",
    "\n",
    "print(find_diameter(n))\n",
    "print(pp.algorithms.shortest_paths.diameter(n))"
   ],
   "metadata": {
    "collapsed": false,
    "pycharm": {
     "name": "#%%\n"
    }
   }
  },
  {
   "cell_type": "markdown",
   "source": [
    "## 2. Answer the following questions about the partition quality measure Q(G, C) that was introduced in the lecture 2?"
   ],
   "metadata": {
    "collapsed": false,
    "pycharm": {
     "name": "#%% md\n"
    }
   }
  },
  {
   "cell_type": "markdown",
   "source": [
    "### a. Consider a fully-connected(i.e. all links exists) and undirected network G = (V, E) with n nodes and no self-loops. Further, assume that all nodes are assigned to a single community i.e. consider a partition C = {V}. Prove that Q(G, C) = 0?"
   ],
   "metadata": {
    "collapsed": false,
    "pycharm": {
     "name": "#%% md\n"
    }
   }
  },
  {
   "cell_type": "markdown",
   "source": [
    "We will use formula:\n",
    "\n",
    "![Partition quality formula](images/2_qgc_formula.jpg)\n",
    "\n",
    "For the n cases:\n",
    "(1/2m) * n * (0 - ((n-1) ^ 2) / 2m)\n",
    "\n",
    "For n * (n-1) cases:\n",
    "(1/2m) * n * (n - 1) * (1 - ((n - 1) ^ 2)/2m)\n",
    "\n",
    "As the result formula goes to 1 / 2n which is actually 1 / inf -> 0"
   ],
   "metadata": {
    "collapsed": false,
    "pycharm": {
     "name": "#%% md\n"
    }
   }
  },
  {
   "cell_type": "markdown",
   "source": [
    "### b. Consider an undirected network G = (V, E) that exclusively contains self-loops. Assume that self-loops are represented by a one-entry on the main diagonal of the adjacency matrix i.e. A = diag(1;....1). Consider a community partition C, where all nodes are assigned to different communities i.e. C = {{v1}, ...., {vn}} for V = {v1, ..., vn}. Prove that Q(G, C) -> 1/2 for n -> inf?"
   ],
   "metadata": {
    "collapsed": false,
    "pycharm": {
     "name": "#%% md\n"
    }
   }
  },
  {
   "cell_type": "markdown",
   "source": [
    "We will use formula:\n",
    "\n",
    "![Partition quality formula](images/2_qgc_formula.jpg)\n",
    "\n",
    "The formula is OK only for n cases of self-loops.\n",
    "In a such case the formula is equal to (1/2n) * n * (1 - 1/2n).\n",
    "This leads us to lim(1/2 - 1/4n) where n -> inf. It means that lim(1/2 - 0) = 1/2."
   ],
   "metadata": {
    "collapsed": false,
    "pycharm": {
     "name": "#%% md\n"
    }
   }
  },
  {
   "cell_type": "markdown",
   "source": [
    "### 3.a. Construct a network in which the node with the highest betweenness centrality has the smallest degree centrality. Use pathpy to demonstrate the correctness of your example?"
   ],
   "metadata": {
    "collapsed": false,
    "pycharm": {
     "name": "#%% md\n"
    }
   }
  },
  {
   "cell_type": "markdown",
   "source": [
    "Node A in the graph below, has the following properties:\n",
    "- Highest betweenness centrality (Because any given path between two random nodes has a high chance to pass through Node A\n",
    "- Smallest degree centrality (All nodes are highly connected to each other, making Node A's centrality smaller)"
   ],
   "metadata": {
    "collapsed": false,
    "pycharm": {
     "name": "#%% md\n"
    }
   }
  },
  {
   "cell_type": "code",
   "execution_count": null,
   "outputs": [],
   "source": [
    "import pathpy as pp\n",
    "\n",
    "n = pp.Network(directed=False)\n",
    "n.add_edges(\n",
    "    pp.Edge('a','b'),\n",
    "    pp.Edge('a','c'),\n",
    "    pp.Edge('b','d'),\n",
    "    pp.Edge('b','e'),\n",
    "    pp.Edge('e','f'),\n",
    "    pp.Edge('f','d'),\n",
    "    pp.Edge('e','d'),\n",
    "    pp.Edge('b','f'),\n",
    "    pp.Edge('c','g'),\n",
    "    pp.Edge('c','h'),\n",
    "    pp.Edge('c','i'),\n",
    "    pp.Edge('h','i'),\n",
    "    pp.Edge('g','i'),\n",
    "    pp.Edge('h','g'),\n",
    "    )\n",
    "\n",
    "n.plot(node_color=\"red\")"
   ],
   "metadata": {
    "collapsed": false,
    "pycharm": {
     "name": "#%%\n"
    }
   }
  },
  {
   "cell_type": "markdown",
   "source": [
    "With the code below, we see that Node a indeed has this property."
   ],
   "metadata": {
    "collapsed": false,
    "pycharm": {
     "name": "#%% md\n"
    }
   }
  },
  {
   "cell_type": "code",
   "execution_count": null,
   "outputs": [],
   "source": [
    "import operator\n",
    "\n",
    "print(min(pp.algorithms.centralities.degree_centrality(n)) ==\n",
    "      max(pp.algorithms.centralities.betweenness_centrality(n).items(),\n",
    "          key=operator.itemgetter(1))[0])"
   ],
   "metadata": {
    "collapsed": false,
    "pycharm": {
     "name": "#%%\n"
    }
   }
  },
  {
   "cell_type": "markdown",
   "source": [
    "### 3.b. Construct a network in which with 10 nodes where exactly one node has the max possible closeness centrality?"
   ],
   "metadata": {
    "collapsed": false,
    "pycharm": {
     "name": "#%% md\n"
    }
   }
  },
  {
   "cell_type": "code",
   "execution_count": null,
   "outputs": [],
   "source": [
    "import pathpy as pp\n",
    "\n",
    "n = pp.Network(directed=False)\n",
    "n.add_edges(\n",
    "    pp.Edge('a','b'),\n",
    "    pp.Edge('a','c'),\n",
    "    pp.Edge('a','d'),\n",
    "    pp.Edge('a','e'),\n",
    "    pp.Edge('a','f'),\n",
    "    )\n",
    "\n",
    "n.plot(node_color=\"red\")"
   ],
   "metadata": {
    "collapsed": false,
    "pycharm": {
     "name": "#%%\n"
    }
   }
  },
  {
   "cell_type": "code",
   "execution_count": null,
   "outputs": [],
   "source": [
    "import operator\n",
    "\n",
    "print(max(pp.algorithms.centralities.betweenness_centrality(n).items(),\n",
    "          key=operator.itemgetter(1))[0])"
   ],
   "metadata": {
    "collapsed": false,
    "pycharm": {
     "name": "#%%\n"
    }
   }
  },
  {
   "cell_type": "markdown",
   "source": [
    "### 3.c Give an example for a network with 10 nodes where exactly one node has the max betweenness centrality possible in a network with that size. Prove that the max possible betweenness centrality in a network with n nodes is $n^2$ - 2n - n + 2?"
   ],
   "metadata": {
    "collapsed": false,
    "pycharm": {
     "name": "#%% md\n"
    }
   }
  },
  {
   "cell_type": "markdown",
   "source": [
    "We will use such a formula:\n",
    "\n",
    "![alt text](images/3_c_betweenness_centrality_formula.jpg)\n",
    "\n",
    "Nst(v) / Nst > 0 for all cases. We want to maximize the sum. For that, Nst(v) / Nst should be 1, since its max value is 1 since Nst(v) cannot be higher than Nst. Let's take one node for calculating betweeness centrality. For any given node from which we construct all the shortest paths, the max occurs when there is just one node from which all the possible shortest paths has to pass. (which is the case in the example graph we constructed previously for n=10). We are considering all the shortest paths sourced from any given node. We have n-1 ways of choosing the source node. We have n-2 ways for choosing the destination node. Note that when calculating the sum for v: s,t ∈ - {v} must hold by the formula. So, (n-1)(n-2) = $n^2$ - 2n - n + 3 = $n^2$ -3n + 3.\n",
    "\n",
    "Cb(Node A) = 72 and (10-1)(10-2) = 72 as well."
   ],
   "metadata": {
    "collapsed": false,
    "pycharm": {
     "name": "#%% md\n"
    }
   }
  },
  {
   "cell_type": "markdown",
   "source": [],
   "metadata": {
    "collapsed": false,
    "pycharm": {
     "name": "#%% md\n"
    }
   }
  }
 ],
 "metadata": {
  "kernelspec": {
   "display_name": "Python 3",
   "language": "python",
   "name": "python3"
  },
  "language_info": {
   "codemirror_mode": {
    "name": "ipython",
    "version": 2
   },
   "file_extension": ".py",
   "mimetype": "text/x-python",
   "name": "python",
   "nbconvert_exporter": "python",
   "pygments_lexer": "ipython2",
   "version": "2.7.6"
  }
 },
 "nbformat": 4,
 "nbformat_minor": 0
}