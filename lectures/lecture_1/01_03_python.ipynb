{
 "cells": [
  {
   "cell_type": "markdown",
   "metadata": {
    "slideshow": {
     "slide_type": "slide"
    }
   },
   "source": [
    "# A `python` crash course\n",
    "\n",
    "*October 20 2021*\n",
    "\n",
    "We provide a brief introduction to core `python` concepts that we will use throughout the course. Here, we will start with basic `python` programming language constructs and data types, which we will complement by more advanced data science concepts introduced in the packages `numpy`, `scipy`, `matplotlib` and `pandas`. If you are interested in a more comprehensive introduction, you can find a number of good introductory tutorials on the web, e.g. the [official python tutorial](https://docs.python.org/3/tutorial/) or the [W3C python tutorial](https://www.w3schools.com/python/default.asp)."
   ]
  },
  {
   "cell_type": "markdown",
   "metadata": {
    "slideshow": {
     "slide_type": "subslide"
    }
   },
   "source": [
    "## Importing modules\n",
    "\n",
    "Many functions that we will use are provided via `python` modules such as `numpy`, `scipy`, `scitkit-learn`, `matplotlib` or `pandas`. We can import such modules using the `import` keyword."
   ]
  },
  {
   "cell_type": "code",
   "execution_count": 1,
   "metadata": {
    "slideshow": {
     "slide_type": "fragment"
    }
   },
   "outputs": [],
   "source": [
    "import numpy"
   ]
  },
  {
   "cell_type": "markdown",
   "metadata": {
    "slideshow": {
     "slide_type": "fragment"
    }
   },
   "source": [
    "After the import, all classes, functions, and variables defined by `numpy` are accessible in the namespace `numpy.X`. Let us try this by using the code completion functionality integrated into code editors like `jupyter` lab and Visual Studio Code. Rather than importing into a namespace that matches the module name we can use `import MODULE as ALIAS` to define a local alias."
   ]
  },
  {
   "cell_type": "code",
   "execution_count": 2,
   "metadata": {
    "slideshow": {
     "slide_type": "fragment"
    }
   },
   "outputs": [],
   "source": [
    "import numpy as np"
   ]
  },
  {
   "cell_type": "markdown",
   "metadata": {
    "slideshow": {
     "slide_type": "fragment"
    }
   },
   "source": [
    "We can use the `from` keyword to only import certain parts of a module, e.g. a single class or function. We can also use this to import all symbols from a certain submodule. If we wanted to include all symbols in `numpy` into python's root namespace (which is not recommended) we could do this as with the following statement (which we will not execute in this example):\n",
    "\n",
    "```\n",
    "from numpy import *\n",
    "```"
   ]
  },
  {
   "cell_type": "markdown",
   "metadata": {
    "slideshow": {
     "slide_type": "slide"
    }
   },
   "source": [
    "## Basic data types\n",
    "\n",
    "Python is a dynamically-typed language, i.e., we do not have to specifically define the types of variables as they will be automatically inferred at runtime. This means that we can simply assign values of different types to variables without having to explicit cast them. We can check the type of a variable using the `type` function. Let us try this by assigning the integer 42 to a variable `i` and then print the type:"
   ]
  },
  {
   "cell_type": "code",
   "execution_count": 3,
   "metadata": {
    "slideshow": {
     "slide_type": "fragment"
    }
   },
   "outputs": [
    {
     "name": "stdout",
     "output_type": "stream",
     "text": [
      "<class 'int'>\n"
     ]
    }
   ],
   "source": [
    "i = 42\n",
    "print(type(i))"
   ]
  },
  {
   "cell_type": "markdown",
   "metadata": {
    "slideshow": {
     "slide_type": "subslide"
    }
   },
   "source": [
    "If we want to store the number 42 as a float value, we can make an explicit cast using the class constructor `float`. We can cast the integer 42 to a float, assign it to `i` and print the type as follows:"
   ]
  },
  {
   "cell_type": "code",
   "execution_count": 4,
   "metadata": {
    "slideshow": {
     "slide_type": "fragment"
    }
   },
   "outputs": [
    {
     "name": "stdout",
     "output_type": "stream",
     "text": [
      "<class 'float'>\n"
     ]
    }
   ],
   "source": [
    "i = float(42)\n",
    "print(type(i))"
   ]
  },
  {
   "cell_type": "markdown",
   "metadata": {
    "slideshow": {
     "slide_type": "subslide"
    }
   },
   "source": [
    "As mentioned above, python will automatically infer the type of a variable based on its value. If we specify the number 42 with a decimal point, it will automatically store a floating point number. Let us assign the number 42 with a decimal point to variable `i` and print the type:"
   ]
  },
  {
   "cell_type": "code",
   "execution_count": 5,
   "metadata": {
    "slideshow": {
     "slide_type": "fragment"
    }
   },
   "outputs": [
    {
     "name": "stdout",
     "output_type": "stream",
     "text": [
      "<class 'float'>\n"
     ]
    }
   ],
   "source": [
    "i = 42.\n",
    "print(type(i))"
   ]
  },
  {
   "cell_type": "markdown",
   "metadata": {
    "slideshow": {
     "slide_type": "subslide"
    }
   },
   "source": [
    "Python comes with an integrated string class and we can cast values to strings using the class constructor `str`. Let us cast the variable `i` to a string and `print` the value:"
   ]
  },
  {
   "cell_type": "code",
   "execution_count": 6,
   "metadata": {
    "slideshow": {
     "slide_type": "fragment"
    }
   },
   "outputs": [
    {
     "name": "stdout",
     "output_type": "stream",
     "text": [
      "42.0\n"
     ]
    }
   ],
   "source": [
    "i = str(i)\n",
    "print(i)"
   ]
  },
  {
   "cell_type": "markdown",
   "metadata": {
    "slideshow": {
     "slide_type": "subslide"
    }
   },
   "source": [
    "We can define string literals using single or double quotes. This comes in handy if we want to define strings that contain quotes:"
   ]
  },
  {
   "cell_type": "code",
   "execution_count": 7,
   "metadata": {
    "slideshow": {
     "slide_type": "fragment"
    }
   },
   "outputs": [],
   "source": [
    "s1 = 'some text'\n",
    "s2 = \"some text with a 'quote'\""
   ]
  },
  {
   "cell_type": "markdown",
   "metadata": {},
   "source": [
    "We can also create multi-line string literals by using the triple-quote. This is often used to create so-called docstrings to document a class or function and we will see this below."
   ]
  },
  {
   "cell_type": "code",
   "execution_count": null,
   "metadata": {},
   "outputs": [],
   "source": [
    "s3 = \"\"\" This is a very long string \n",
    "that spans\n",
    "multiple\n",
    "lines\n",
    "\"\"\""
   ]
  },
  {
   "cell_type": "markdown",
   "metadata": {
    "slideshow": {
     "slide_type": "subslide"
    }
   },
   "source": [
    "Boolean (i.e. logical) values are defined using the keywords `True` and `False`. Common comparators which yield Boolean results are `==` (equal), `!=` (not equal), `<` (smaller), `>` (greater), `<=` (smaller equal) and `>=` (greater equal). They can be composed to logical expressions using the binary boolean operators `or` and `and`. Let us try this:"
   ]
  },
  {
   "cell_type": "code",
   "execution_count": 8,
   "metadata": {
    "slideshow": {
     "slide_type": "fragment"
    }
   },
   "outputs": [
    {
     "name": "stdout",
     "output_type": "stream",
     "text": [
      "False\n",
      "True\n"
     ]
    }
   ],
   "source": [
    "b = False\n",
    "print(b)\n",
    "\n",
    "x = 42\n",
    "print(x > 20 and x < 45)"
   ]
  },
  {
   "cell_type": "markdown",
   "metadata": {
    "slideshow": {
     "slide_type": "slide"
    }
   },
   "source": [
    "## Functions\n",
    "\n",
    "We can use the `def` keyword to define functions that can be called with different arguments. We can assign standard values to optional parameters, which are used if the respective argument is omitted.\n",
    "\n",
    "The `return` keyword can be used to return a value. Since python uses neither brackets (like C/C++/C#/Java) nor begin/end keywords (like Pascal/Basic) as scope delimiters, the statements that belong to the function have to be indented correctly. Let us define a function with three parameters, of which two are assigned default values."
   ]
  },
  {
   "cell_type": "code",
   "execution_count": 9,
   "metadata": {
    "slideshow": {
     "slide_type": "fragment"
    }
   },
   "outputs": [],
   "source": [
    "def some_function(x, y=42, z='message'):\n",
    "    # outputs several printable variables using the print method.\n",
    "    # By default a space is used to separate the individual values\n",
    "    print(\"Parameter x =\", x)\n",
    "    print(\"Parameter y =\", y)\n",
    "    print(\"Parameter z =\", z)\n",
    "    return x+y"
   ]
  },
  {
   "cell_type": "markdown",
   "metadata": {},
   "source": [
    "`python` has an integrated documentation and help system, that is also used by tools that (i) automatically generate reference manuals for software packages, and (ii) IDEs like VSCode that show the documentation of functions as you type. We can call the integrated help function to output the documentation of a function or class."
   ]
  },
  {
   "cell_type": "code",
   "execution_count": 10,
   "metadata": {},
   "outputs": [
    {
     "name": "stdout",
     "output_type": "stream",
     "text": [
      "Help on function some_function in module __main__:\n",
      "\n",
      "some_function(x, y=42, z='message')\n",
      "\n"
     ]
    }
   ],
   "source": [
    "help(some_function)"
   ]
  },
  {
   "cell_type": "markdown",
   "metadata": {},
   "source": [
    "For the function above, this help function only returns the function signature, because we have not included a so-called `docstring`. We can add a documentation by adding a multi-line string literal immediately after the function definition. It is common to use e.g. [numpy-style docstrings](https://sphinxcontrib-napoleon.readthedocs.io/en/latest/example_numpy.html), which can be parsed by automatic documentation tools like doxygen."
   ]
  },
  {
   "cell_type": "code",
   "execution_count": 13,
   "metadata": {},
   "outputs": [],
   "source": [
    "def some_function(x, y=42, z='message') -> int:\n",
    "    \"\"\"Outputs several printable variables using the print method.\n",
    "    \n",
    "    By default a space is used to separate the individual values. \n",
    "    \n",
    "    Parameters\n",
    "    ----------\n",
    "    x : int\n",
    "        The first parameter.\n",
    "    y : int\n",
    "        The second parameter.\n",
    "    z : str\n",
    "        The third parameter\n",
    "\n",
    "    Returns\n",
    "    -------\n",
    "    int\n",
    "        Sum of x and y\n",
    "    \n",
    "     \"\"\"\n",
    "    print(\"Parameter x =\", x)\n",
    "    print(\"Parameter y =\", y)\n",
    "    print(\"Parameter z =\", z)\n",
    "    return x+y"
   ]
  },
  {
   "cell_type": "markdown",
   "metadata": {},
   "source": [
    "If we now call the help function, we get ... "
   ]
  },
  {
   "cell_type": "code",
   "execution_count": 12,
   "metadata": {},
   "outputs": [
    {
     "name": "stdout",
     "output_type": "stream",
     "text": [
      "Help on function some_function in module __main__:\n",
      "\n",
      "some_function(x, y=42, z='message')\n",
      "    Outputs several printable variables using the print method.\n",
      "    \n",
      "    By default a space is used to separate the individual values. \n",
      "    \n",
      "    Parameters\n",
      "    ----------\n",
      "    x : int\n",
      "        The first parameter.\n",
      "    y : int\n",
      "        The second parameter.\n",
      "    z : str\n",
      "        The third parameter\n",
      "    \n",
      "    Returns\n",
      "    -------\n",
      "    int\n",
      "        Sum of x and y\n",
      "\n"
     ]
    }
   ],
   "source": [
    "help(some_function)"
   ]
  },
  {
   "cell_type": "markdown",
   "metadata": {
    "slideshow": {
     "slide_type": "subslide"
    }
   },
   "source": [
    "Note that python is a whitespace-sensitive language, i.e., **wrong whitespace characters can break your code or give it a different meaning!** As an example, changing the intendation of the function definition above results in a syntax error:"
   ]
  },
  {
   "cell_type": "code",
   "execution_count": 14,
   "metadata": {
    "slideshow": {
     "slide_type": "fragment"
    }
   },
   "outputs": [
    {
     "ename": "IndentationError",
     "evalue": "unexpected indent (<ipython-input-14-30f73e9d5861>, line 3)",
     "output_type": "error",
     "traceback": [
      "\u001b[0;36m  File \u001b[0;32m\"<ipython-input-14-30f73e9d5861>\"\u001b[0;36m, line \u001b[0;32m3\u001b[0m\n\u001b[0;31m    print(\"Parameter y =\", y)\u001b[0m\n\u001b[0m    ^\u001b[0m\n\u001b[0;31mIndentationError\u001b[0m\u001b[0;31m:\u001b[0m unexpected indent\n"
     ]
    }
   ],
   "source": [
    "def some_function(x, y=42, z='message'):\n",
    " print(\"Parameter x =\", x)\n",
    "  print(\"Parameter y =\", y)\n",
    " print(\"Parameter z =\", z)\n",
    " return x+y"
   ]
  },
  {
   "cell_type": "markdown",
   "metadata": {
    "slideshow": {
     "slide_type": "subslide"
    }
   },
   "source": [
    "When calling a function, we must provide arguments for all parameters that do not have assigned a default value. We can also only set particular arguments in any order by specifying named arguments (i.e. stating \"`z = `\"). Let us call the function above by specifying (i) the first argument, (ii) the second named argument, and (iii) the third named argument."
   ]
  },
  {
   "cell_type": "code",
   "execution_count": null,
   "metadata": {
    "slideshow": {
     "slide_type": "fragment"
    }
   },
   "outputs": [],
   "source": [
    "result = some_function(0)\n",
    "print(result)\n",
    "\n",
    "result = some_function(42, y=45)\n",
    "print(result)\n",
    "\n",
    "result = some_function(42, z=\"some other message\")\n",
    "print(result)"
   ]
  },
  {
   "cell_type": "markdown",
   "metadata": {
    "slideshow": {
     "slide_type": "subslide"
    }
   },
   "source": [
    "Importantly, while we can change the order of named arguments, while the order of unnamed arguments is fixed. These unnamed arguments are called **positional arguments**, because they are determined based on the order of arguments. This implies that we cannot pass a named argument before a positional argument. Let's try to call the function from above by passing a named parameter as first argument;"
   ]
  },
  {
   "cell_type": "code",
   "execution_count": null,
   "metadata": {
    "slideshow": {
     "slide_type": "fragment"
    }
   },
   "outputs": [],
   "source": [
    "some_function(y=45)"
   ]
  },
  {
   "cell_type": "markdown",
   "metadata": {},
   "source": [
    "**Caution:** The way how python handles the scope of default arguments can be surprising and is a frequent source of confusion (and hard to find errors). In a nutshell, default arguments are created once when the function definition is executed and not - as one might expect - whenver the function is called.\n",
    "\n",
    "The following function with a single argument that has a default value of a list (see details below) illustrates this behavior:"
   ]
  },
  {
   "cell_type": "code",
   "execution_count": null,
   "metadata": {},
   "outputs": [],
   "source": [
    "def caution(x=None):\n",
    "    if x==None:\n",
    "        x = []\n",
    "    x.append(42)\n",
    "    return x\n",
    "\n",
    "z = caution()\n",
    "print(z)\n",
    "\n",
    "a = []\n",
    "z = caution(a)\n",
    "print(z)\n",
    "\n",
    "z = caution()\n",
    "print(z)"
   ]
  },
  {
   "cell_type": "markdown",
   "metadata": {},
   "source": [
    "This can be an issue for pointer-type objects, which should be initialised in the function body instead, e.g. like this:"
   ]
  },
  {
   "cell_type": "code",
   "execution_count": null,
   "metadata": {},
   "outputs": [],
   "source": [
    "def caution(x=None):\n",
    "    if x == None:\n",
    "        x = []\n",
    "    x.append(42)\n",
    "    return x\n",
    "\n",
    "z = caution()\n",
    "print(z)\n",
    "z = caution()\n",
    "print(z)"
   ]
  },
  {
   "cell_type": "markdown",
   "metadata": {
    "slideshow": {
     "slide_type": "subslide"
    }
   },
   "source": [
    "## Lambda expressions\n",
    "\n",
    "Rather than defining functions that consist of multiple expressions, and which are assigned a name, we often encounter situations where we e.g. want to pass a single expression as an argument to another function. As an illustrative example, consider the following function. It performs a generic, yet to be specified `test`, which returns `True` or `False` on the parameter `x`."
   ]
  },
  {
   "cell_type": "code",
   "execution_count": null,
   "metadata": {
    "slideshow": {
     "slide_type": "fragment"
    }
   },
   "outputs": [],
   "source": [
    "def perform_test(x, test):\n",
    "    if test(x): \n",
    "        print('x passes the test')\n",
    "    else:\n",
    "        print('x does not pass the test')"
   ]
  },
  {
   "cell_type": "markdown",
   "metadata": {
    "slideshow": {
     "slide_type": "subslide"
    }
   },
   "source": [
    "We could call this function by passing the name of another function as parameter `test`. But this would require us to define and name this function, while we often simply want to pass a simple expression that returns a boolean value. This can be achieved by so-called [lambda expressions](https://docs.python.org/3/reference/expressions.html#lambda), a special type of anonymous function. The general syntax is: \n",
    "\n",
    "```\n",
    "lambda params: expression\n",
    "```\n",
    "\n",
    "With this, we can for instance pass an expression that checks whether the parameter is a string. We can do this using the `isistance(x, y)` function, which checks whether `x` is an instance of the class `y`:"
   ]
  },
  {
   "cell_type": "code",
   "execution_count": null,
   "metadata": {
    "slideshow": {
     "slide_type": "fragment"
    }
   },
   "outputs": [],
   "source": [
    "x = 42\n",
    "perform_test(x, lambda y: isinstance(y, str))\n",
    "x = '42'\n",
    "perform_test(x, lambda y: isinstance(y, str))"
   ]
  },
  {
   "cell_type": "markdown",
   "metadata": {
    "slideshow": {
     "slide_type": "slide"
    }
   },
   "source": [
    "## Loops and if-clauses\n",
    "\n",
    "We can use for-loops to execute statements for a given number of elements. Instead of the syntax `for (int i=0; i<10; i++)` which you probably know from languages like Java or C, in `python` the syntax of for-loops is\n",
    "\n",
    "`for i in SEQUENCE:`\n",
    "\n",
    "where `SEQUENCE` can be any iterable object. For the common case that we want to iterate over increasing or decreasing numbers, we can use the `range(start=0,stop)` function. It generates a sequence of numbers in a rang, that we can then iterate over. The `stop` argument is an **non-inclusive** upper bound of the sequence, the start argument is an `inclusive` lower bound. The default value for `start` is zero, so a call to range(10) generates a sequence consisting of the 10 numbers [0,1,2,3,4,5,6,7,8,9].\n",
    "\n",
    "Let us try this by priting the integers from 1 to 15:"
   ]
  },
  {
   "cell_type": "code",
   "execution_count": null,
   "metadata": {
    "slideshow": {
     "slide_type": "fragment"
    }
   },
   "outputs": [],
   "source": [
    "for x in range(1, 16):\n",
    "    print(\"x =\", x)"
   ]
  },
  {
   "cell_type": "markdown",
   "metadata": {
    "slideshow": {
     "slide_type": "subslide"
    }
   },
   "source": [
    "As we see in the following cell, the `range` function returns an iterable `range` object:"
   ]
  },
  {
   "cell_type": "code",
   "execution_count": null,
   "metadata": {
    "slideshow": {
     "slide_type": "fragment"
    }
   },
   "outputs": [],
   "source": [
    "type(range(1, 16))"
   ]
  },
  {
   "cell_type": "markdown",
   "metadata": {
    "slideshow": {
     "slide_type": "subslide"
    }
   },
   "source": [
    "We can generate the actual ordered list of numbers by passing this iterable object to the constructor of the class `list` as follows:"
   ]
  },
  {
   "cell_type": "code",
   "execution_count": null,
   "metadata": {
    "slideshow": {
     "slide_type": "fragment"
    }
   },
   "outputs": [],
   "source": [
    "list(range(1, 16))"
   ]
  },
  {
   "cell_type": "markdown",
   "metadata": {
    "slideshow": {
     "slide_type": "subslide"
    }
   },
   "source": [
    "The syntax of `while` loops is more familiar:\n",
    "\n",
    "```while EXPRESSION:\n",
    "    STATEMENT\n",
    "```\n",
    "\n",
    "The following thus prints the integers from 1 to 15:"
   ]
  },
  {
   "cell_type": "code",
   "execution_count": null,
   "metadata": {
    "slideshow": {
     "slide_type": "fragment"
    }
   },
   "outputs": [],
   "source": [
    "x = 1\n",
    "while x <= 15:\n",
    "    print(\"x =\", x)   \n",
    "    x = x+1"
   ]
  },
  {
   "cell_type": "markdown",
   "metadata": {
    "slideshow": {
     "slide_type": "subslide"
    }
   },
   "source": [
    "As in other languages, `if`-clauses allow us to execute statements conditionally. They use a similar syntax as loops, i.e. a colon followed by multiple indented statements. The `else` and `elif` branches are optional and can be omitted. `elif` is short for `else if`, i.e. it is an additional condition checked if the previous one does not apply. This is illustrated in the following example:"
   ]
  },
  {
   "cell_type": "code",
   "execution_count": null,
   "metadata": {
    "slideshow": {
     "slide_type": "fragment"
    }
   },
   "outputs": [],
   "source": [
    "x = 3\n",
    "y = 5\n",
    "if x < y:\n",
    "    print(\"x is smaller than y\")\n",
    "elif x > y:\n",
    "    print(\"x is larger than y\")\n",
    "else: \n",
    "    print(\"x and y are equal\")"
   ]
  }
 ],
 "metadata": {
  "celltoolbar": "Slideshow",
  "interpreter": {
   "hash": "2400a327ef164ba0133335acbd6c3561a4da01fcc2d3301c8744f1e5bf0f5e0c"
  },
  "kernelspec": {
   "display_name": "Python 3.8.5 64-bit ('base': conda)",
   "name": "python3"
  },
  "language_info": {
   "codemirror_mode": {
    "name": "ipython",
    "version": 3
   },
   "file_extension": ".py",
   "mimetype": "text/x-python",
   "name": "python",
   "nbconvert_exporter": "python",
   "pygments_lexer": "ipython3",
   "version": "3.8.5"
  }
 },
 "nbformat": 4,
 "nbformat_minor": 2
}
