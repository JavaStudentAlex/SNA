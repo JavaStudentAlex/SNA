{
 "cells": [
  {
   "cell_type": "markdown",
   "source": [
    "1. Explain the role of graphs and network models in data science?"
   ],
   "metadata": {
    "collapsed": false
   }
  },
  {
   "cell_type": "markdown",
   "source": [
    "Networks help us to understand topology and behaviour of the complex networks, connections between entities inside. Also, the last but not leas role is visualizing."
   ],
   "metadata": {
    "collapsed": false
   }
  },
  {
   "cell_type": "markdown",
   "source": [
    "2. Give two examples for complex systems that can be studied from a network perspective?"
   ],
   "metadata": {
    "collapsed": false
   }
  },
  {
   "cell_type": "markdown",
   "source": [
    "electrical grid\n",
    "ants"
   ],
   "metadata": {
    "collapsed": false
   }
  },
  {
   "cell_type": "markdown",
   "source": [
    "3. Explain the micro and macro perspective on network analysis. What distinguishes them and what exemplary applications?"
   ],
   "metadata": {
    "collapsed": false
   }
  },
  {
   "cell_type": "markdown",
   "source": [
    "Microscopic perspective is about the small pieces of the network - nodes and edges:\n",
    "- why these nodes are connected?\n",
    "- what is the position of the node?\n",
    "This perspective is used for social networks, recommender systems\n",
    "\n",
    "Macroscopic perspective is about the network at all:\n",
    "- topology\n",
    "- statistical models\n",
    "- models for dynamic processes\n",
    "- This perspective is used for statistical learning, predictive analytics and pattern recognition"
   ],
   "metadata": {
    "collapsed": false
   }
  },
  {
   "cell_type": "markdown",
   "source": [
    "4. Search the network science literature and identify an exemplary study that applies concepts from statistical physics in the study of complex networks?"
   ],
   "metadata": {
    "collapsed": false
   }
  },
  {
   "cell_type": "markdown",
   "source": [
    "- electricity conductors\n",
    "- networks of coupled oscillators"
   ],
   "metadata": {
    "collapsed": false
   }
  },
  {
   "cell_type": "markdown",
   "source": [
    "5. Investigate how the modelling of epidemics in networks is used to fight pandemics?"
   ],
   "metadata": {
    "collapsed": false
   }
  },
  {
   "cell_type": "markdown",
   "source": [
    "The network can be built, which represents nodes as persons and edges as contacts between them. During modelling the epidemics we can colour ill persons in red and healthy in green. Then we can make the clustering and isolate clusters with the virus inside."
   ],
   "metadata": {
    "collapsed": false
   }
  },
  {
   "cell_type": "markdown",
   "source": [
    "6. List and explain three key challenges in the study of complex systems from a network perspective?"
   ],
   "metadata": {
    "collapsed": false
   }
  },
  {
   "cell_type": "markdown",
   "source": [
    "These three key challenges are:\n",
    "- unreliable data(It happens if we have not uniform datasets, errors, noises, biases. For avoiding it we need to use null models, bayesian inference, model selection and hypothesis testing techniques)\n",
    "- time series data(every node has different measurements with different timestamp. Usual methods can not analyze such a graph that is why scientists try to develop time-aware methods.)\n",
    "- complex interactions(It happens when the system has non-dyadic way of interaction, the high-order network modelling techniques will help in a such keys)"
   ],
   "metadata": {
    "collapsed": false
   }
  },
  {
   "cell_type": "markdown",
   "source": [
    "7. What is hypergraph and how it is related to graph?"
   ],
   "metadata": {
    "collapsed": false
   }
  },
  {
   "cell_type": "markdown",
   "source": [
    "Hypergraph is the high-order graph where nodes can interact with each other not only in dyadic way."
   ],
   "metadata": {
    "collapsed": false
   }
  },
  {
   "cell_type": "markdown",
   "source": [
    "8. Give an example for a system that can naturally be modelled by an undirected or directed network respectively?"
   ],
   "metadata": {
    "collapsed": false
   }
  },
  {
   "cell_type": "markdown",
   "source": [
    "Undirected network - electric network\n",
    "Directed network - instagram"
   ],
   "metadata": {
    "collapsed": false
   }
  },
  {
   "cell_type": "markdown",
   "source": [
    "9. Give an example how network analysis can be combined with statistical classification techniques?"
   ],
   "metadata": {
    "collapsed": false
   }
  },
  {
   "cell_type": "markdown",
   "source": [
    "We can split the nodes into the clusters and find the class of the node based on which claster does it belong to. That is how classification techniques can be used."
   ],
   "metadata": {
    "collapsed": false
   }
  }
 ],
 "metadata": {
  "kernelspec": {
   "display_name": "Python 3",
   "language": "python",
   "name": "python3"
  },
  "language_info": {
   "codemirror_mode": {
    "name": "ipython",
    "version": 2
   },
   "file_extension": ".py",
   "mimetype": "text/x-python",
   "name": "python",
   "nbconvert_exporter": "python",
   "pygments_lexer": "ipython2",
   "version": "2.7.6"
  }
 },
 "nbformat": 4,
 "nbformat_minor": 0
}