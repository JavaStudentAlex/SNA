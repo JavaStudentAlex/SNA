{
 "cells": [
  {
   "cell_type": "markdown",
   "source": [
    "1. Give examples for complex systems that can naturally be represented by directed, undirected, or weighted network?"
   ],
   "metadata": {
    "collapsed": false
   }
  },
  {
   "cell_type": "markdown",
   "source": [
    "directed network - Instagram\n",
    "undirected network - electrical network\n",
    "weighted network - delivery network"
   ],
   "metadata": {
    "collapsed": false
   }
  },
  {
   "cell_type": "markdown",
   "source": [
    "2. Give an example for walk, path and cycle in a network?"
   ],
   "metadata": {
    "collapsed": false
   }
  },
  {
   "cell_type": "markdown",
   "source": [
    "Let`s use such a network:\n",
    "\n",
    "![Network example](images/2_network_example.png)"
   ],
   "metadata": {
    "collapsed": false,
    "pycharm": {
     "name": "#%% md\n"
    }
   }
  },
  {
   "cell_type": "markdown",
   "source": [
    "- The walk is the random sequence of the nodes where the neighbours in the list are connected in the network.\n",
    "Example: f - g - d - e - f - d - b\n",
    "\n",
    "- The cycle is the walk which ends with the same node which was in the start position.\n",
    "example: f - g - d - e - f\n",
    "\n",
    "- The path is the walk with the unique nodes.\n",
    "Example: f - d - e"
   ],
   "metadata": {
    "collapsed": false,
    "pycharm": {
     "name": "#%% md\n"
    }
   }
  },
  {
   "cell_type": "markdown",
   "source": [
    "3. Give an example for acyclic network. How can we detect whether a network is acyclic?"
   ],
   "metadata": {
    "collapsed": false
   }
  },
  {
   "cell_type": "markdown",
   "source": [
    "Tree of comments without new editions of the documents. For searching for a cycle in the network we need to run DFS. For the **directed network**: start DFS and draw the node in grey if we entered it, black if we exited it by recursion. In fact if we try to investigate the grey node, so the graph has the cycle. For the **undirected network**: the same way but we also need to see if we came with the same edge to this node."
   ],
   "metadata": {
    "collapsed": false
   }
  },
  {
   "cell_type": "markdown",
   "source": [
    "4. Summarize the advantages and disadvantages of adjacency matrix and adjacency list?"
   ],
   "metadata": {
    "collapsed": false
   }
  },
  {
   "cell_type": "markdown",
   "source": [
    "**Adjacency matrix**:\n",
    "+ supports algebraic operations\n",
    "+ good dense networks\n",
    "\n",
    "- need O(n ^ 2) memory\n",
    "- bad for big sparse networks\n",
    "\n",
    "**Adjacency list**:\n",
    "+ requires O(m * log(n)) memory\n",
    "+ good for sparse networks\n",
    "\n",
    "- does not support algebraic operations"
   ],
   "metadata": {
    "collapsed": false
   }
  },
  {
   "cell_type": "markdown",
   "source": [
    "5. How can the number of edge crossing be used to evaluate graph layouts?"
   ],
   "metadata": {
    "collapsed": false
   }
  },
  {
   "cell_type": "markdown",
   "source": [
    "Graph layout is the graph visualization for better understanding the system. If the layout as many edges crossing it is really hard to get the assignment. So the fewer crossings we have the better the layout is."
   ],
   "metadata": {
    "collapsed": false
   }
  },
  {
   "cell_type": "markdown",
   "source": [
    "6. Define the average shortest path length of a network?"
   ],
   "metadata": {
    "collapsed": false
   }
  },
  {
   "cell_type": "markdown",
   "source": [
    "It is calculated by the sum of all shortest paths in the networks divided by squared number of nodes. It means the average distance we need to traverse to reach random node j from random node i."
   ],
   "metadata": {
    "collapsed": false
   }
  },
  {
   "cell_type": "markdown",
   "source": [
    "7. Why do the entries of the k-th power of an adjacency matrix count walks of length k?"
   ],
   "metadata": {
    "collapsed": false
   }
  },
  {
   "cell_type": "markdown",
   "source": [
    "Each row in the adjacency matrix defines the neighbour node by 1, and not connected node by 0. Same for columns. So when we have the 2 power of adjacency matrix the Aij element is the result of multiplying and summing elements of i-th row and j-th column. If the edge between i-node and j-node exists and the edge between j and k exists we can say that we traversed walk with length 2. Then the A ^ 3 = A ^ 2 * A, so imagine in A ^ 2 we have already had i - j - k connection but in the A there is also k - m connection, and it means that the connection i - j - k - m exists with length 3. And so on with every power. It means that power of the matrix k is the matrix where each cell Aij means the number of routes from j to j with length k."
   ],
   "metadata": {
    "collapsed": false
   }
  },
  {
   "cell_type": "markdown",
   "source": [
    "8. Explain how we can use adjacency matrix powers sum to compute the diameter of a network?"
   ],
   "metadata": {
    "collapsed": false
   }
  },
  {
   "cell_type": "markdown",
   "source": [
    "As we said previously the matrix with power k is the matrix where each cell Aij means the number of walks with length k from i to j. The sum if such powers means all routes with length <= k from i to j. So when all cells in the matrix will be not equal to 0, so every node is covered. So the diameter has k length."
   ],
   "metadata": {
    "collapsed": false
   }
  },
  {
   "cell_type": "markdown",
   "source": [
    "9. What is the computation complexity of calculation the kth power of a network with n nodes?"
   ],
   "metadata": {
    "collapsed": false
   }
  },
  {
   "cell_type": "markdown",
   "source": [
    "O((n - 1) * n ^ 3)"
   ],
   "metadata": {
    "collapsed": false
   }
  },
  {
   "cell_type": "markdown",
   "source": [
    "10. Given an example for a weakly connected network where all nodes are in different strongly connected components?"
   ],
   "metadata": {
    "collapsed": false
   }
  },
  {
   "cell_type": "markdown",
   "source": [
    "Network where each edge is the self-loop."
   ],
   "metadata": {
    "collapsed": false
   }
  },
  {
   "cell_type": "markdown",
   "source": [
    "P.S. Path searching algorithms in graph:"
   ],
   "metadata": {
    "collapsed": false
   }
  },
  {
   "cell_type": "markdown",
   "source": [
    "- Dijkstra algorithm: it uses the min heap and set. From the start algorithm chooses the start node and set the property for it - 0. All other gets the infinity and are loaded to the heap, add the start point to set. For each cycle iteration it chooses the next undiscovered node with min cost, remove it from the heap, add top set and change neighbours values n the heap. At the end we have length of all paths from the start node to all other nodes in graph. Works for **O(n * log(n) + m)**. Does not work for edges with minuses weights.\n",
    "\n",
    "\n",
    "- Floyd-Warshall algorithm: uses the principle that if we have a route from i to k and the node from k to j, and it is shorter path than from i to j than the route through the k node is the shortest path. Works for **O(n ^ 3)** and returns the whole shortest paths list for all the nodes.\n",
    "\n",
    "\n",
    "- Bellman-Ford algorithm: the algorithm go through the cycle n - 1 times and each time refreshes the paths in the array through the edges values. The second cycle shows that it does not have the cycle with minus edges. Woks for **O(n * m)**.\n",
    "\n",
    "\n",
    "- Tarjan`s algorithm: the algorithm for finding connected components. Fo each acyclic graph there is the last connected components. So we reverse all edges and find the node from the last connected component by topological sort. Then we use DFS for discovering the whole last connected component. And then one by one we choose the nods from topological sorted list and apply DFS for it. Each node shows the whole connected component. It works for **O(m)**."
   ],
   "metadata": {
    "collapsed": false
   }
  }
 ],
 "metadata": {
  "kernelspec": {
   "display_name": "Python 3",
   "language": "python",
   "name": "python3"
  },
  "language_info": {
   "codemirror_mode": {
    "name": "ipython",
    "version": 2
   },
   "file_extension": ".py",
   "mimetype": "text/x-python",
   "name": "python",
   "nbconvert_exporter": "python",
   "pygments_lexer": "ipython2",
   "version": "2.7.6"
  }
 },
 "nbformat": 4,
 "nbformat_minor": 0
}