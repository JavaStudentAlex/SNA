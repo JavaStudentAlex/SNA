{
 "cells": [
  {
   "cell_type": "markdown",
   "source": [
    "1. Why do entries of the k-th power o adjacency matrices count walks of length k?"
   ],
   "metadata": {
    "collapsed": false
   }
  },
  {
   "cell_type": "markdown",
   "source": [
    "Each row in the adjacency matrix defines the neighbour node by 1, and not connected node by 0. Same for columns. So when we have the 2 power of adjacency matrix the Aij element is the result of multiplying and summing elements of i-th row and j-th column. If the edge between i-node and j-node exists and the edge between j and k exists we can say that we traversed walk with length 2. Then the A ^ 3 = A ^ 2 * A, so imagine in A ^ 2 we have already had i - j - k connection but in the A there is also k - m connection, and it means that the connection i - j - k - m exists with length 3. And so on with every power. It means that power of the matrix k is the matrix where each cell Aij means the number of routes from j to j with length k."
   ],
   "metadata": {
    "collapsed": false
   }
  },
  {
   "cell_type": "markdown",
   "source": [
    "2. Explain how we can use the sum of adjacency matrix powers to compute the diameter of a network?"
   ],
   "metadata": {
    "collapsed": false
   }
  },
  {
   "cell_type": "markdown",
   "source": [
    "As we said previously the matrix with power k is the matrix where each cell Aij means the number of walks with length k from i to j. The sum if such powers means all routes with length <= k from i to j. So when all cells in the matrix will be not equal to 0, so every node is covered. So the diameter has k length."
   ],
   "metadata": {
    "collapsed": false
   }
  },
  {
   "cell_type": "markdown",
   "source": [
    "3. Implement an algorithm that determines the modularity Qopt for a given network?"
   ],
   "metadata": {
    "collapsed": false
   }
  },
  {
   "cell_type": "markdown",
   "source": [
    "First we set each node to it`s own community, and then we choose two communities uniformly and merge them if it increases partition quality."
   ],
   "metadata": {
    "collapsed": false
   }
  },
  {
   "cell_type": "markdown",
   "source": [
    "4. Explain the difference between Qmax and Qopt?"
   ],
   "metadata": {
    "collapsed": false
   }
  },
  {
   "cell_type": "markdown",
   "source": [
    "Through the search process we found such a partition when the partition quality in this network is maximum. It is called Qopt. But then we imagine that there are edges which connects only nodes inside one community. In this way we get the partition quality which will be defined as Qmax."
   ],
   "metadata": {
    "collapsed": false
   }
  },
  {
   "cell_type": "markdown",
   "source": [
    "5. Give an example for a network with ax community assortativity coefficient but modularity smaller than one?"
   ],
   "metadata": {
    "collapsed": false
   }
  },
  {
   "cell_type": "markdown",
   "source": [
    "![Network example](images/5_network_example_answer.png)"
   ],
   "metadata": {
    "collapsed": false
   }
  },
  {
   "cell_type": "markdown",
   "source": [
    "6. Define the betweenness and closeness centrality in an undirected network?"
   ],
   "metadata": {
    "collapsed": false
   }
  },
  {
   "cell_type": "markdown",
   "source": [
    "Betweenness centrality is the measure how many sortest paths goes through the network. Closeness centrality is the measure how far the node from other nodes is."
   ],
   "metadata": {
    "collapsed": false,
    "pycharm": {
     "name": "#%% md\n"
    }
   }
  },
  {
   "cell_type": "markdown",
   "source": [
    "7. Construct a network in which the node with highest betweenness centrality is the one with the smallest degree centrality?"
   ],
   "metadata": {
    "collapsed": false
   }
  },
  {
   "cell_type": "markdown",
   "source": [
    "![Network Example](images/7_network_example.jpg)"
   ],
   "metadata": {
    "collapsed": false
   }
  },
  {
   "cell_type": "markdown",
   "source": [
    "8. For a fully connected network with n nodes and no self-loops and a single community C1, show that Q -> 0(n -> inf)?"
   ],
   "metadata": {
    "collapsed": false
   }
  },
  {
   "cell_type": "markdown",
   "source": [
    "We will use the formula:\n",
    "\n",
    "![Partition Quality Formula](images/8_partition_quality_formula.png)\n",
    "\n",
    "For the n cases:\n",
    "(1/2m) * n * (0 - ((n-1) ^ 2) / 2m)\n",
    "\n",
    "For n * (n-1) cases:\n",
    "(1/2m) * n * (n - 1) * (1 - ((n - 1) ^ 2)/2m)\n",
    "\n",
    "As the result formula goes to 1 / 2n which is actually 1 / inf -> 0"
   ],
   "metadata": {
    "collapsed": false,
    "pycharm": {
     "name": "#%% md\n"
    }
   }
  },
  {
   "cell_type": "markdown",
   "source": [
    "9. For a network with n nodes, only connected by self-loops(represented 1-element on the diagonal) and each node i assigned to its ow community Ci, show that Q -> 1/2(n -> inf)?"
   ],
   "metadata": {
    "collapsed": false
   }
  },
  {
   "cell_type": "markdown",
   "source": [
    "We will use the same formula as the previous question.\n",
    "\n",
    "![Partition Quality Formula](images/8_partition_quality_formula.png)\n",
    "\n",
    "The formula is OK only for n cases of self-loops.\n",
    "In a such case the formula is equal to (1/2n) * n * (1 - 1/2n).\n",
    "This leads us to lim(1/2 - 1/4n) where n -> inf. It means that lim(1/2 - 0) = 1/2."
   ],
   "metadata": {
    "collapsed": false,
    "pycharm": {
     "name": "#%% md\n"
    }
   }
  }
 ],
 "metadata": {
  "kernelspec": {
   "display_name": "Python 3",
   "language": "python",
   "name": "python3"
  },
  "language_info": {
   "codemirror_mode": {
    "name": "ipython",
    "version": 2
   },
   "file_extension": ".py",
   "mimetype": "text/x-python",
   "name": "python",
   "nbconvert_exporter": "python",
   "pygments_lexer": "ipython2",
   "version": "2.7.6"
  }
 },
 "nbformat": 4,
 "nbformat_minor": 0
}